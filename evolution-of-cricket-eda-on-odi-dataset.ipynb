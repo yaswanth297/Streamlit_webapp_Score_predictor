{
 "cells": [
  {
   "cell_type": "code",
   "execution_count": 1,
   "id": "84f326ef",
   "metadata": {
    "_cell_guid": "b1076dfc-b9ad-4769-8c92-a6c4dae69d19",
    "_uuid": "8f2839f25d086af736a60e9eeb907d3b93b6e0e5",
    "execution": {
     "iopub.execute_input": "2023-06-29T15:11:48.164290Z",
     "iopub.status.busy": "2023-06-29T15:11:48.163823Z",
     "iopub.status.idle": "2023-06-29T15:11:50.374707Z",
     "shell.execute_reply": "2023-06-29T15:11:50.373539Z"
    },
    "papermill": {
     "duration": 2.221077,
     "end_time": "2023-06-29T15:11:50.377488",
     "exception": false,
     "start_time": "2023-06-29T15:11:48.156411",
     "status": "completed"
    },
    "tags": []
   },
   "outputs": [],
   "source": [
    "import numpy as np \n",
    "import pandas as pd \n",
    "\n",
    "import os\n",
    "        \n",
    "import seaborn as sns\n",
    "import matplotlib.pyplot as plt\n",
    "import plotly.express as px "
   ]
  },
  {
   "cell_type": "code",
   "execution_count": 2,
   "id": "6fbcb899",
   "metadata": {
    "execution": {
     "iopub.execute_input": "2023-06-29T15:11:50.388929Z",
     "iopub.status.busy": "2023-06-29T15:11:50.388556Z",
     "iopub.status.idle": "2023-06-29T15:11:50.457890Z",
     "shell.execute_reply": "2023-06-29T15:11:50.456813Z"
    },
    "papermill": {
     "duration": 0.077908,
     "end_time": "2023-06-29T15:11:50.460420",
     "exception": false,
     "start_time": "2023-06-29T15:11:50.382512",
     "status": "completed"
    },
    "tags": []
   },
   "outputs": [
    {
     "data": {
      "text/html": [
       "<div>\n",
       "<style scoped>\n",
       "    .dataframe tbody tr th:only-of-type {\n",
       "        vertical-align: middle;\n",
       "    }\n",
       "\n",
       "    .dataframe tbody tr th {\n",
       "        vertical-align: top;\n",
       "    }\n",
       "\n",
       "    .dataframe thead th {\n",
       "        text-align: right;\n",
       "    }\n",
       "</style>\n",
       "<table border=\"1\" class=\"dataframe\">\n",
       "  <thead>\n",
       "    <tr style=\"text-align: right;\">\n",
       "      <th></th>\n",
       "      <th>Team_1</th>\n",
       "      <th>Team_2</th>\n",
       "      <th>Winner</th>\n",
       "      <th>Margin</th>\n",
       "      <th>Ground</th>\n",
       "      <th>Match Date</th>\n",
       "    </tr>\n",
       "  </thead>\n",
       "  <tbody>\n",
       "    <tr>\n",
       "      <th>4364</th>\n",
       "      <td>U.A.E.</td>\n",
       "      <td>Namibia</td>\n",
       "      <td>U.A.E.</td>\n",
       "      <td>43 runs</td>\n",
       "      <td>Sharjah</td>\n",
       "      <td>Mar 12, 2022</td>\n",
       "    </tr>\n",
       "    <tr>\n",
       "      <th>4482</th>\n",
       "      <td>New Zealand</td>\n",
       "      <td>India</td>\n",
       "      <td>New Zealand</td>\n",
       "      <td>7 wickets</td>\n",
       "      <td>Auckland</td>\n",
       "      <td>Nov 25, 2022</td>\n",
       "    </tr>\n",
       "    <tr>\n",
       "      <th>1521</th>\n",
       "      <td>India</td>\n",
       "      <td>New Zealand</td>\n",
       "      <td>New Zealand</td>\n",
       "      <td>43 runs</td>\n",
       "      <td>Rajkot</td>\n",
       "      <td>Nov 5, 1999</td>\n",
       "    </tr>\n",
       "    <tr>\n",
       "      <th>324</th>\n",
       "      <td>Australia</td>\n",
       "      <td>India</td>\n",
       "      <td>India</td>\n",
       "      <td>3 wickets</td>\n",
       "      <td>Sharjah</td>\n",
       "      <td>Mar 29, 1985</td>\n",
       "    </tr>\n",
       "    <tr>\n",
       "      <th>4084</th>\n",
       "      <td>New Zealand</td>\n",
       "      <td>India</td>\n",
       "      <td>India</td>\n",
       "      <td>90 runs</td>\n",
       "      <td>Mount Maunganui</td>\n",
       "      <td>Jan 26, 2019</td>\n",
       "    </tr>\n",
       "    <tr>\n",
       "      <th>827</th>\n",
       "      <td>West Indies</td>\n",
       "      <td>Pakistan</td>\n",
       "      <td>Pakistan</td>\n",
       "      <td>38 runs</td>\n",
       "      <td>Kingstown</td>\n",
       "      <td>Mar 30, 1993</td>\n",
       "    </tr>\n",
       "    <tr>\n",
       "      <th>2304</th>\n",
       "      <td>Pakistan</td>\n",
       "      <td>England</td>\n",
       "      <td>Pakistan</td>\n",
       "      <td>7 wickets</td>\n",
       "      <td>Lahore</td>\n",
       "      <td>Dec 12, 2005</td>\n",
       "    </tr>\n",
       "    <tr>\n",
       "      <th>587</th>\n",
       "      <td>Pakistan</td>\n",
       "      <td>Sri Lanka</td>\n",
       "      <td>Pakistan</td>\n",
       "      <td>6 runs</td>\n",
       "      <td>Lucknow</td>\n",
       "      <td>Oct 27, 1989</td>\n",
       "    </tr>\n",
       "    <tr>\n",
       "      <th>2811</th>\n",
       "      <td>Kenya</td>\n",
       "      <td>Zimbabwe</td>\n",
       "      <td>Zimbabwe</td>\n",
       "      <td>66 runs</td>\n",
       "      <td>Nairobi (Gym)</td>\n",
       "      <td>Feb 1, 2009</td>\n",
       "    </tr>\n",
       "    <tr>\n",
       "      <th>4295</th>\n",
       "      <td>England</td>\n",
       "      <td>Sri Lanka</td>\n",
       "      <td>England</td>\n",
       "      <td>5 wickets</td>\n",
       "      <td>Chester-le-Street</td>\n",
       "      <td>Jun 29, 2021</td>\n",
       "    </tr>\n",
       "  </tbody>\n",
       "</table>\n",
       "</div>"
      ],
      "text/plain": [
       "           Team_1       Team_2       Winner     Margin             Ground  \\\n",
       "4364       U.A.E.      Namibia       U.A.E.    43 runs            Sharjah   \n",
       "4482  New Zealand        India  New Zealand  7 wickets           Auckland   \n",
       "1521        India  New Zealand  New Zealand    43 runs             Rajkot   \n",
       "324     Australia        India        India  3 wickets            Sharjah   \n",
       "4084  New Zealand        India        India    90 runs    Mount Maunganui   \n",
       "827   West Indies     Pakistan     Pakistan    38 runs          Kingstown   \n",
       "2304     Pakistan      England     Pakistan  7 wickets             Lahore   \n",
       "587      Pakistan    Sri Lanka     Pakistan     6 runs            Lucknow   \n",
       "2811        Kenya     Zimbabwe     Zimbabwe    66 runs      Nairobi (Gym)   \n",
       "4295      England    Sri Lanka      England  5 wickets  Chester-le-Street   \n",
       "\n",
       "        Match Date  \n",
       "4364  Mar 12, 2022  \n",
       "4482  Nov 25, 2022  \n",
       "1521   Nov 5, 1999  \n",
       "324   Mar 29, 1985  \n",
       "4084  Jan 26, 2019  \n",
       "827   Mar 30, 1993  \n",
       "2304  Dec 12, 2005  \n",
       "587   Oct 27, 1989  \n",
       "2811   Feb 1, 2009  \n",
       "4295  Jun 29, 2021  "
      ]
     },
     "execution_count": 2,
     "metadata": {},
     "output_type": "execute_result"
    }
   ],
   "source": [
    "df=pd.read_csv('ODI.csv')\n",
    "df=df.drop(columns=['Unnamed: 0'])\n",
    "df.sample(10)"
   ]
  },
  {
   "cell_type": "code",
   "execution_count": 3,
   "id": "204ffd7e",
   "metadata": {
    "execution": {
     "iopub.execute_input": "2023-06-29T15:11:50.473539Z",
     "iopub.status.busy": "2023-06-29T15:11:50.472218Z",
     "iopub.status.idle": "2023-06-29T15:11:50.478239Z",
     "shell.execute_reply": "2023-06-29T15:11:50.477458Z"
    },
    "papermill": {
     "duration": 0.014876,
     "end_time": "2023-06-29T15:11:50.480685",
     "exception": false,
     "start_time": "2023-06-29T15:11:50.465809",
     "status": "completed"
    },
    "tags": []
   },
   "outputs": [
    {
     "data": {
      "text/plain": [
       "(4578, 6)"
      ]
     },
     "execution_count": 3,
     "metadata": {},
     "output_type": "execute_result"
    }
   ],
   "source": [
    "df.shape"
   ]
  },
  {
   "cell_type": "code",
   "execution_count": 4,
   "id": "f9cc3e70",
   "metadata": {
    "execution": {
     "iopub.execute_input": "2023-06-29T15:11:50.493003Z",
     "iopub.status.busy": "2023-06-29T15:11:50.492328Z",
     "iopub.status.idle": "2023-06-29T15:11:50.515224Z",
     "shell.execute_reply": "2023-06-29T15:11:50.514108Z"
    },
    "papermill": {
     "duration": 0.03215,
     "end_time": "2023-06-29T15:11:50.518252",
     "exception": false,
     "start_time": "2023-06-29T15:11:50.486102",
     "status": "completed"
    },
    "tags": []
   },
   "outputs": [
    {
     "name": "stdout",
     "output_type": "stream",
     "text": [
      "<class 'pandas.core.frame.DataFrame'>\n",
      "RangeIndex: 4578 entries, 0 to 4577\n",
      "Data columns (total 6 columns):\n",
      " #   Column      Non-Null Count  Dtype \n",
      "---  ------      --------------  ----- \n",
      " 0   Team_1      4578 non-null   object\n",
      " 1   Team_2      4578 non-null   object\n",
      " 2   Winner      4578 non-null   object\n",
      " 3   Margin      4578 non-null   object\n",
      " 4   Ground      4578 non-null   object\n",
      " 5   Match Date  4578 non-null   object\n",
      "dtypes: object(6)\n",
      "memory usage: 214.7+ KB\n"
     ]
    }
   ],
   "source": [
    "df.info()"
   ]
  },
  {
   "cell_type": "code",
   "execution_count": 5,
   "id": "f842519f",
   "metadata": {
    "execution": {
     "iopub.execute_input": "2023-06-29T15:11:50.531213Z",
     "iopub.status.busy": "2023-06-29T15:11:50.530837Z",
     "iopub.status.idle": "2023-06-29T15:11:50.543388Z",
     "shell.execute_reply": "2023-06-29T15:11:50.541996Z"
    },
    "papermill": {
     "duration": 0.022248,
     "end_time": "2023-06-29T15:11:50.546209",
     "exception": false,
     "start_time": "2023-06-29T15:11:50.523961",
     "status": "completed"
    },
    "tags": []
   },
   "outputs": [
    {
     "data": {
      "text/plain": [
       "Team_1          28\n",
       "Team_2          28\n",
       "Winner          30\n",
       "Margin         239\n",
       "Ground         188\n",
       "Match Date    3903\n",
       "dtype: int64"
      ]
     },
     "execution_count": 5,
     "metadata": {},
     "output_type": "execute_result"
    }
   ],
   "source": [
    "df.nunique()"
   ]
  },
  {
   "cell_type": "code",
   "execution_count": 6,
   "id": "5ba4c10b",
   "metadata": {
    "execution": {
     "iopub.execute_input": "2023-06-29T15:11:50.560738Z",
     "iopub.status.busy": "2023-06-29T15:11:50.559811Z",
     "iopub.status.idle": "2023-06-29T15:11:50.567814Z",
     "shell.execute_reply": "2023-06-29T15:11:50.566463Z"
    },
    "papermill": {
     "duration": 0.016819,
     "end_time": "2023-06-29T15:11:50.570041",
     "exception": false,
     "start_time": "2023-06-29T15:11:50.553222",
     "status": "completed"
    },
    "tags": []
   },
   "outputs": [
    {
     "data": {
      "text/plain": [
       "array(['Australia', 'England', 'New Zealand', 'no result', 'West Indies',\n",
       "       'Pakistan', 'India', 'Sri Lanka', 'Zimbabwe', 'tied',\n",
       "       'South Africa', 'Kenya', 'U.A.E.', 'Bangladesh', 'Canada',\n",
       "       'Netherlands', 'ICC World XI', 'Africa XI', 'Asia XI', 'Bermuda',\n",
       "       'Ireland', 'Scotland', 'Afghanistan', 'P.N.G.', 'Hong Kong',\n",
       "       'Nepal', 'Namibia', 'Oman', 'U.S.A.', 'Jersey'], dtype=object)"
      ]
     },
     "execution_count": 6,
     "metadata": {},
     "output_type": "execute_result"
    }
   ],
   "source": [
    "df.Winner.unique()"
   ]
  },
  {
   "cell_type": "code",
   "execution_count": 7,
   "id": "0d62a330",
   "metadata": {
    "execution": {
     "iopub.execute_input": "2023-06-29T15:11:50.582898Z",
     "iopub.status.busy": "2023-06-29T15:11:50.582551Z",
     "iopub.status.idle": "2023-06-29T15:11:50.590706Z",
     "shell.execute_reply": "2023-06-29T15:11:50.589428Z"
    },
    "papermill": {
     "duration": 0.017153,
     "end_time": "2023-06-29T15:11:50.592901",
     "exception": false,
     "start_time": "2023-06-29T15:11:50.575748",
     "status": "completed"
    },
    "tags": []
   },
   "outputs": [
    {
     "data": {
      "text/plain": [
       "array(['Australia', 'England', 'New Zealand', 'East Africa', 'Sri Lanka',\n",
       "       'Pakistan', 'India', 'West Indies', 'Canada', 'Bangladesh',\n",
       "       'South Africa', 'Zimbabwe', 'U.A.E.', 'Netherlands', 'Kenya',\n",
       "       'Scotland', 'Namibia', 'Hong Kong', 'Asia XI', 'Africa XI',\n",
       "       'Bermuda', 'Ireland', 'Afghanistan', 'P.N.G.', 'Nepal', 'Oman',\n",
       "       'U.S.A.', 'Jersey'], dtype=object)"
      ]
     },
     "execution_count": 7,
     "metadata": {},
     "output_type": "execute_result"
    }
   ],
   "source": [
    "df.Team_1.unique()"
   ]
  },
  {
   "attachments": {},
   "cell_type": "markdown",
   "id": "a3442d9f",
   "metadata": {
    "papermill": {
     "duration": 0.005031,
     "end_time": "2023-06-29T15:11:50.603356",
     "exception": false,
     "start_time": "2023-06-29T15:11:50.598325",
     "status": "completed"
    },
    "tags": []
   },
   "source": [
    "# No of Matches Played by each Team"
   ]
  },
  {
   "cell_type": "code",
   "execution_count": 8,
   "id": "5a255559",
   "metadata": {
    "execution": {
     "iopub.execute_input": "2023-06-29T15:11:50.617105Z",
     "iopub.status.busy": "2023-06-29T15:11:50.615847Z",
     "iopub.status.idle": "2023-06-29T15:11:52.321004Z",
     "shell.execute_reply": "2023-06-29T15:11:52.319788Z"
    },
    "papermill": {
     "duration": 1.715037,
     "end_time": "2023-06-29T15:11:52.323769",
     "exception": false,
     "start_time": "2023-06-29T15:11:50.608732",
     "status": "completed"
    },
    "tags": []
   },
   "outputs": [
    {
     "data": {
      "application/vnd.plotly.v1+json": {
       "config": {
        "plotlyServerURL": "https://plot.ly"
       },
       "data": [
        {
         "alignmentgroup": "True",
         "hovertemplate": "Teams=%{x}<br>count=%{y}<extra></extra>",
         "legendgroup": "",
         "marker": {
          "color": "#636efa",
          "pattern": {
           "shape": ""
          }
         },
         "name": "",
         "offsetgroup": "",
         "orientation": "v",
         "showlegend": false,
         "textposition": "auto",
         "type": "bar",
         "x": [
          "India",
          "Australia",
          "Pakistan",
          "Sri Lanka",
          "West Indies",
          "New Zealand",
          "England",
          "South Africa",
          "Zimbabwe",
          "Bangladesh",
          "Ireland",
          "Kenya",
          "Scotland",
          "Afghanistan",
          "Netherlands",
          "U.A.E.",
          "Canada",
          "P.N.G.",
          "Nepal",
          "Namibia",
          "U.S.A.",
          "Oman",
          "Bermuda",
          "Hong Kong",
          "Asia XI",
          "Africa XI",
          "Jersey",
          "ICC World XI",
          "East Africa"
         ],
         "xaxis": "x",
         "y": [
          1029,
          978,
          953,
          883,
          854,
          804,
          779,
          654,
          559,
          412,
          188,
          154,
          146,
          141,
          106,
          99,
          82,
          66,
          51,
          48,
          45,
          39,
          35,
          26,
          7,
          6,
          5,
          4,
          3
         ],
         "yaxis": "y"
        }
       ],
       "layout": {
        "barmode": "relative",
        "legend": {
         "tracegroupgap": 0
        },
        "margin": {
         "t": 60
        },
        "template": {
         "data": {
          "bar": [
           {
            "error_x": {
             "color": "#2a3f5f"
            },
            "error_y": {
             "color": "#2a3f5f"
            },
            "marker": {
             "line": {
              "color": "#E5ECF6",
              "width": 0.5
             },
             "pattern": {
              "fillmode": "overlay",
              "size": 10,
              "solidity": 0.2
             }
            },
            "type": "bar"
           }
          ],
          "barpolar": [
           {
            "marker": {
             "line": {
              "color": "#E5ECF6",
              "width": 0.5
             },
             "pattern": {
              "fillmode": "overlay",
              "size": 10,
              "solidity": 0.2
             }
            },
            "type": "barpolar"
           }
          ],
          "carpet": [
           {
            "aaxis": {
             "endlinecolor": "#2a3f5f",
             "gridcolor": "white",
             "linecolor": "white",
             "minorgridcolor": "white",
             "startlinecolor": "#2a3f5f"
            },
            "baxis": {
             "endlinecolor": "#2a3f5f",
             "gridcolor": "white",
             "linecolor": "white",
             "minorgridcolor": "white",
             "startlinecolor": "#2a3f5f"
            },
            "type": "carpet"
           }
          ],
          "choropleth": [
           {
            "colorbar": {
             "outlinewidth": 0,
             "ticks": ""
            },
            "type": "choropleth"
           }
          ],
          "contour": [
           {
            "colorbar": {
             "outlinewidth": 0,
             "ticks": ""
            },
            "colorscale": [
             [
              0,
              "#0d0887"
             ],
             [
              0.1111111111111111,
              "#46039f"
             ],
             [
              0.2222222222222222,
              "#7201a8"
             ],
             [
              0.3333333333333333,
              "#9c179e"
             ],
             [
              0.4444444444444444,
              "#bd3786"
             ],
             [
              0.5555555555555556,
              "#d8576b"
             ],
             [
              0.6666666666666666,
              "#ed7953"
             ],
             [
              0.7777777777777778,
              "#fb9f3a"
             ],
             [
              0.8888888888888888,
              "#fdca26"
             ],
             [
              1,
              "#f0f921"
             ]
            ],
            "type": "contour"
           }
          ],
          "contourcarpet": [
           {
            "colorbar": {
             "outlinewidth": 0,
             "ticks": ""
            },
            "type": "contourcarpet"
           }
          ],
          "heatmap": [
           {
            "colorbar": {
             "outlinewidth": 0,
             "ticks": ""
            },
            "colorscale": [
             [
              0,
              "#0d0887"
             ],
             [
              0.1111111111111111,
              "#46039f"
             ],
             [
              0.2222222222222222,
              "#7201a8"
             ],
             [
              0.3333333333333333,
              "#9c179e"
             ],
             [
              0.4444444444444444,
              "#bd3786"
             ],
             [
              0.5555555555555556,
              "#d8576b"
             ],
             [
              0.6666666666666666,
              "#ed7953"
             ],
             [
              0.7777777777777778,
              "#fb9f3a"
             ],
             [
              0.8888888888888888,
              "#fdca26"
             ],
             [
              1,
              "#f0f921"
             ]
            ],
            "type": "heatmap"
           }
          ],
          "heatmapgl": [
           {
            "colorbar": {
             "outlinewidth": 0,
             "ticks": ""
            },
            "colorscale": [
             [
              0,
              "#0d0887"
             ],
             [
              0.1111111111111111,
              "#46039f"
             ],
             [
              0.2222222222222222,
              "#7201a8"
             ],
             [
              0.3333333333333333,
              "#9c179e"
             ],
             [
              0.4444444444444444,
              "#bd3786"
             ],
             [
              0.5555555555555556,
              "#d8576b"
             ],
             [
              0.6666666666666666,
              "#ed7953"
             ],
             [
              0.7777777777777778,
              "#fb9f3a"
             ],
             [
              0.8888888888888888,
              "#fdca26"
             ],
             [
              1,
              "#f0f921"
             ]
            ],
            "type": "heatmapgl"
           }
          ],
          "histogram": [
           {
            "marker": {
             "pattern": {
              "fillmode": "overlay",
              "size": 10,
              "solidity": 0.2
             }
            },
            "type": "histogram"
           }
          ],
          "histogram2d": [
           {
            "colorbar": {
             "outlinewidth": 0,
             "ticks": ""
            },
            "colorscale": [
             [
              0,
              "#0d0887"
             ],
             [
              0.1111111111111111,
              "#46039f"
             ],
             [
              0.2222222222222222,
              "#7201a8"
             ],
             [
              0.3333333333333333,
              "#9c179e"
             ],
             [
              0.4444444444444444,
              "#bd3786"
             ],
             [
              0.5555555555555556,
              "#d8576b"
             ],
             [
              0.6666666666666666,
              "#ed7953"
             ],
             [
              0.7777777777777778,
              "#fb9f3a"
             ],
             [
              0.8888888888888888,
              "#fdca26"
             ],
             [
              1,
              "#f0f921"
             ]
            ],
            "type": "histogram2d"
           }
          ],
          "histogram2dcontour": [
           {
            "colorbar": {
             "outlinewidth": 0,
             "ticks": ""
            },
            "colorscale": [
             [
              0,
              "#0d0887"
             ],
             [
              0.1111111111111111,
              "#46039f"
             ],
             [
              0.2222222222222222,
              "#7201a8"
             ],
             [
              0.3333333333333333,
              "#9c179e"
             ],
             [
              0.4444444444444444,
              "#bd3786"
             ],
             [
              0.5555555555555556,
              "#d8576b"
             ],
             [
              0.6666666666666666,
              "#ed7953"
             ],
             [
              0.7777777777777778,
              "#fb9f3a"
             ],
             [
              0.8888888888888888,
              "#fdca26"
             ],
             [
              1,
              "#f0f921"
             ]
            ],
            "type": "histogram2dcontour"
           }
          ],
          "mesh3d": [
           {
            "colorbar": {
             "outlinewidth": 0,
             "ticks": ""
            },
            "type": "mesh3d"
           }
          ],
          "parcoords": [
           {
            "line": {
             "colorbar": {
              "outlinewidth": 0,
              "ticks": ""
             }
            },
            "type": "parcoords"
           }
          ],
          "pie": [
           {
            "automargin": true,
            "type": "pie"
           }
          ],
          "scatter": [
           {
            "fillpattern": {
             "fillmode": "overlay",
             "size": 10,
             "solidity": 0.2
            },
            "type": "scatter"
           }
          ],
          "scatter3d": [
           {
            "line": {
             "colorbar": {
              "outlinewidth": 0,
              "ticks": ""
             }
            },
            "marker": {
             "colorbar": {
              "outlinewidth": 0,
              "ticks": ""
             }
            },
            "type": "scatter3d"
           }
          ],
          "scattercarpet": [
           {
            "marker": {
             "colorbar": {
              "outlinewidth": 0,
              "ticks": ""
             }
            },
            "type": "scattercarpet"
           }
          ],
          "scattergeo": [
           {
            "marker": {
             "colorbar": {
              "outlinewidth": 0,
              "ticks": ""
             }
            },
            "type": "scattergeo"
           }
          ],
          "scattergl": [
           {
            "marker": {
             "colorbar": {
              "outlinewidth": 0,
              "ticks": ""
             }
            },
            "type": "scattergl"
           }
          ],
          "scattermapbox": [
           {
            "marker": {
             "colorbar": {
              "outlinewidth": 0,
              "ticks": ""
             }
            },
            "type": "scattermapbox"
           }
          ],
          "scatterpolar": [
           {
            "marker": {
             "colorbar": {
              "outlinewidth": 0,
              "ticks": ""
             }
            },
            "type": "scatterpolar"
           }
          ],
          "scatterpolargl": [
           {
            "marker": {
             "colorbar": {
              "outlinewidth": 0,
              "ticks": ""
             }
            },
            "type": "scatterpolargl"
           }
          ],
          "scatterternary": [
           {
            "marker": {
             "colorbar": {
              "outlinewidth": 0,
              "ticks": ""
             }
            },
            "type": "scatterternary"
           }
          ],
          "surface": [
           {
            "colorbar": {
             "outlinewidth": 0,
             "ticks": ""
            },
            "colorscale": [
             [
              0,
              "#0d0887"
             ],
             [
              0.1111111111111111,
              "#46039f"
             ],
             [
              0.2222222222222222,
              "#7201a8"
             ],
             [
              0.3333333333333333,
              "#9c179e"
             ],
             [
              0.4444444444444444,
              "#bd3786"
             ],
             [
              0.5555555555555556,
              "#d8576b"
             ],
             [
              0.6666666666666666,
              "#ed7953"
             ],
             [
              0.7777777777777778,
              "#fb9f3a"
             ],
             [
              0.8888888888888888,
              "#fdca26"
             ],
             [
              1,
              "#f0f921"
             ]
            ],
            "type": "surface"
           }
          ],
          "table": [
           {
            "cells": {
             "fill": {
              "color": "#EBF0F8"
             },
             "line": {
              "color": "white"
             }
            },
            "header": {
             "fill": {
              "color": "#C8D4E3"
             },
             "line": {
              "color": "white"
             }
            },
            "type": "table"
           }
          ]
         },
         "layout": {
          "annotationdefaults": {
           "arrowcolor": "#2a3f5f",
           "arrowhead": 0,
           "arrowwidth": 1
          },
          "autotypenumbers": "strict",
          "coloraxis": {
           "colorbar": {
            "outlinewidth": 0,
            "ticks": ""
           }
          },
          "colorscale": {
           "diverging": [
            [
             0,
             "#8e0152"
            ],
            [
             0.1,
             "#c51b7d"
            ],
            [
             0.2,
             "#de77ae"
            ],
            [
             0.3,
             "#f1b6da"
            ],
            [
             0.4,
             "#fde0ef"
            ],
            [
             0.5,
             "#f7f7f7"
            ],
            [
             0.6,
             "#e6f5d0"
            ],
            [
             0.7,
             "#b8e186"
            ],
            [
             0.8,
             "#7fbc41"
            ],
            [
             0.9,
             "#4d9221"
            ],
            [
             1,
             "#276419"
            ]
           ],
           "sequential": [
            [
             0,
             "#0d0887"
            ],
            [
             0.1111111111111111,
             "#46039f"
            ],
            [
             0.2222222222222222,
             "#7201a8"
            ],
            [
             0.3333333333333333,
             "#9c179e"
            ],
            [
             0.4444444444444444,
             "#bd3786"
            ],
            [
             0.5555555555555556,
             "#d8576b"
            ],
            [
             0.6666666666666666,
             "#ed7953"
            ],
            [
             0.7777777777777778,
             "#fb9f3a"
            ],
            [
             0.8888888888888888,
             "#fdca26"
            ],
            [
             1,
             "#f0f921"
            ]
           ],
           "sequentialminus": [
            [
             0,
             "#0d0887"
            ],
            [
             0.1111111111111111,
             "#46039f"
            ],
            [
             0.2222222222222222,
             "#7201a8"
            ],
            [
             0.3333333333333333,
             "#9c179e"
            ],
            [
             0.4444444444444444,
             "#bd3786"
            ],
            [
             0.5555555555555556,
             "#d8576b"
            ],
            [
             0.6666666666666666,
             "#ed7953"
            ],
            [
             0.7777777777777778,
             "#fb9f3a"
            ],
            [
             0.8888888888888888,
             "#fdca26"
            ],
            [
             1,
             "#f0f921"
            ]
           ]
          },
          "colorway": [
           "#636efa",
           "#EF553B",
           "#00cc96",
           "#ab63fa",
           "#FFA15A",
           "#19d3f3",
           "#FF6692",
           "#B6E880",
           "#FF97FF",
           "#FECB52"
          ],
          "font": {
           "color": "#2a3f5f"
          },
          "geo": {
           "bgcolor": "white",
           "lakecolor": "white",
           "landcolor": "#E5ECF6",
           "showlakes": true,
           "showland": true,
           "subunitcolor": "white"
          },
          "hoverlabel": {
           "align": "left"
          },
          "hovermode": "closest",
          "mapbox": {
           "style": "light"
          },
          "paper_bgcolor": "white",
          "plot_bgcolor": "#E5ECF6",
          "polar": {
           "angularaxis": {
            "gridcolor": "white",
            "linecolor": "white",
            "ticks": ""
           },
           "bgcolor": "#E5ECF6",
           "radialaxis": {
            "gridcolor": "white",
            "linecolor": "white",
            "ticks": ""
           }
          },
          "scene": {
           "xaxis": {
            "backgroundcolor": "#E5ECF6",
            "gridcolor": "white",
            "gridwidth": 2,
            "linecolor": "white",
            "showbackground": true,
            "ticks": "",
            "zerolinecolor": "white"
           },
           "yaxis": {
            "backgroundcolor": "#E5ECF6",
            "gridcolor": "white",
            "gridwidth": 2,
            "linecolor": "white",
            "showbackground": true,
            "ticks": "",
            "zerolinecolor": "white"
           },
           "zaxis": {
            "backgroundcolor": "#E5ECF6",
            "gridcolor": "white",
            "gridwidth": 2,
            "linecolor": "white",
            "showbackground": true,
            "ticks": "",
            "zerolinecolor": "white"
           }
          },
          "shapedefaults": {
           "line": {
            "color": "#2a3f5f"
           }
          },
          "ternary": {
           "aaxis": {
            "gridcolor": "white",
            "linecolor": "white",
            "ticks": ""
           },
           "baxis": {
            "gridcolor": "white",
            "linecolor": "white",
            "ticks": ""
           },
           "bgcolor": "#E5ECF6",
           "caxis": {
            "gridcolor": "white",
            "linecolor": "white",
            "ticks": ""
           }
          },
          "title": {
           "x": 0.05
          },
          "xaxis": {
           "automargin": true,
           "gridcolor": "white",
           "linecolor": "white",
           "ticks": "",
           "title": {
            "standoff": 15
           },
           "zerolinecolor": "white",
           "zerolinewidth": 2
          },
          "yaxis": {
           "automargin": true,
           "gridcolor": "white",
           "linecolor": "white",
           "ticks": "",
           "title": {
            "standoff": 15
           },
           "zerolinecolor": "white",
           "zerolinewidth": 2
          }
         }
        },
        "xaxis": {
         "anchor": "y",
         "domain": [
          0,
          1
         ],
         "title": {
          "text": "Teams"
         }
        },
        "yaxis": {
         "anchor": "x",
         "domain": [
          0,
          1
         ],
         "title": {
          "text": "count"
         }
        }
       }
      }
     },
     "metadata": {},
     "output_type": "display_data"
    }
   ],
   "source": [
    "team1=df.Team_1.value_counts()\n",
    "team2=df.Team_2.value_counts()\n",
    "teams=team1+team2\n",
    "teams['Africa XI']=team1['Africa XI']\n",
    "teams['ICC World XI']=team2['ICC World XI']\n",
    "teams=pd.DataFrame(teams)\n",
    "teams['count']=teams\n",
    "teams['Teams']=teams.index\n",
    "teams.reset_index(drop=True,inplace=True)\n",
    "teams=teams.sort_values('count',ascending=False)\n",
    "fig = px.bar(teams, x=\"Teams\", y=\"count\") \n",
    "fig.show()"
   ]
  },
  {
   "attachments": {},
   "cell_type": "markdown",
   "id": "8c449777",
   "metadata": {
    "papermill": {
     "duration": 0.006659,
     "end_time": "2023-06-29T15:11:52.336804",
     "exception": false,
     "start_time": "2023-06-29T15:11:52.330145",
     "status": "completed"
    },
    "tags": []
   },
   "source": [
    "# Chasing vs Defending"
   ]
  },
  {
   "cell_type": "code",
   "execution_count": 9,
   "id": "3c79170a",
   "metadata": {
    "execution": {
     "iopub.execute_input": "2023-06-29T15:11:52.351210Z",
     "iopub.status.busy": "2023-06-29T15:11:52.350812Z",
     "iopub.status.idle": "2023-06-29T15:11:52.363252Z",
     "shell.execute_reply": "2023-06-29T15:11:52.362341Z"
    },
    "papermill": {
     "duration": 0.02207,
     "end_time": "2023-06-29T15:11:52.365143",
     "exception": false,
     "start_time": "2023-06-29T15:11:52.343073",
     "status": "completed"
    },
    "tags": []
   },
   "outputs": [],
   "source": [
    "By=[]\n",
    "runs=[]\n",
    "wickets=[]\n",
    "for i in df['Margin']:\n",
    "    \n",
    "    margin=i.split(' ')\n",
    "    \n",
    "    if(len(margin)==2 and (margin[1]=='runs' or margin[1]=='run')):\n",
    "        By.append('Defending')\n",
    "        runs.append(int(margin[0]))\n",
    "    elif(len(margin)==2 and (margin[1]=='wickets' or margin[1]=='wicket')):\n",
    "        By.append('Chasing')\n",
    "        wickets.append(int(margin[0]))\n",
    "    else:\n",
    "        By.append('Tied')\n",
    "\n",
    "df['Wonby']=By"
   ]
  },
  {
   "cell_type": "code",
   "execution_count": 18,
   "id": "b5111251",
   "metadata": {},
   "outputs": [
    {
     "data": {
      "application/vnd.plotly.v1+json": {
       "config": {
        "plotlyServerURL": "https://plot.ly"
       },
       "data": [
        {
         "alignmentgroup": "True",
         "bingroup": "x",
         "hovertemplate": "Wonby=%{x}<br>count=%{y}<extra></extra>",
         "legendgroup": "",
         "marker": {
          "color": "#636efa",
          "pattern": {
           "shape": ""
          }
         },
         "name": "",
         "offsetgroup": "",
         "orientation": "v",
         "showlegend": false,
         "type": "histogram",
         "x": [
          "Chasing",
          "Chasing",
          "Chasing",
          "Chasing",
          "Defending",
          "Chasing",
          "Tied",
          "Chasing",
          "Chasing",
          "Chasing",
          "Defending",
          "Chasing",
          "Chasing",
          "Chasing",
          "Chasing",
          "Chasing",
          "Tied",
          "Tied",
          "Defending",
          "Defending",
          "Defending",
          "Chasing",
          "Defending",
          "Chasing",
          "Defending",
          "Chasing",
          "Defending",
          "Chasing",
          "Chasing",
          "Defending",
          "Chasing",
          "Chasing",
          "Defending",
          "Chasing",
          "Chasing",
          "Defending",
          "Chasing",
          "Defending",
          "Defending",
          "Defending",
          "Chasing",
          "Chasing",
          "Defending",
          "Chasing",
          "Chasing",
          "Chasing",
          "Defending",
          "Defending",
          "Chasing",
          "Defending",
          "Defending",
          "Defending",
          "Defending",
          "Defending",
          "Chasing",
          "Tied",
          "Tied",
          "Chasing",
          "Chasing",
          "Chasing",
          "Chasing",
          "Chasing",
          "Chasing",
          "Chasing",
          "Chasing",
          "Defending",
          "Chasing",
          "Defending",
          "Defending",
          "Chasing",
          "Defending",
          "Defending",
          "Defending",
          "Defending",
          "Chasing",
          "Defending",
          "Chasing",
          "Defending",
          "Defending",
          "Defending",
          "Chasing",
          "Chasing",
          "Chasing",
          "Defending",
          "Defending",
          "Defending",
          "Chasing",
          "Chasing",
          "Defending",
          "Chasing",
          "Defending",
          "Defending",
          "Chasing",
          "Chasing",
          "Defending",
          "Chasing",
          "Defending",
          "Chasing",
          "Defending",
          "Chasing",
          "Defending",
          "Chasing",
          "Defending",
          "Chasing",
          "Chasing",
          "Chasing",
          "Defending",
          "Defending",
          "Defending",
          "Tied",
          "Defending",
          "Chasing",
          "Defending",
          "Chasing",
          "Defending",
          "Defending",
          "Defending",
          "Chasing",
          "Chasing",
          "Defending",
          "Defending",
          "Defending",
          "Chasing",
          "Chasing",
          "Chasing",
          "Defending",
          "Defending",
          "Chasing",
          "Chasing",
          "Chasing",
          "Chasing",
          "Defending",
          "Chasing",
          "Chasing",
          "Defending",
          "Chasing",
          "Chasing",
          "Defending",
          "Defending",
          "Defending",
          "Defending",
          "Defending",
          "Chasing",
          "Defending",
          "Defending",
          "Defending",
          "Chasing",
          "Chasing",
          "Chasing",
          "Defending",
          "Chasing",
          "Chasing",
          "Defending",
          "Chasing",
          "Defending",
          "Defending",
          "Chasing",
          "Defending",
          "Chasing",
          "Defending",
          "Tied",
          "Defending",
          "Defending",
          "Defending",
          "Chasing",
          "Defending",
          "Defending",
          "Defending",
          "Chasing",
          "Defending",
          "Chasing",
          "Chasing",
          "Defending",
          "Chasing",
          "Defending",
          "Chasing",
          "Defending",
          "Defending",
          "Chasing",
          "Defending",
          "Chasing",
          "Defending",
          "Chasing",
          "Defending",
          "Defending",
          "Defending",
          "Defending",
          "Defending",
          "Chasing",
          "Defending",
          "Defending",
          "Chasing",
          "Chasing",
          "Chasing",
          "Tied",
          "Tied",
          "Defending",
          "Defending",
          "Defending",
          "Defending",
          "Defending",
          "Defending",
          "Defending",
          "Chasing",
          "Chasing",
          "Chasing",
          "Defending",
          "Chasing",
          "Chasing",
          "Defending",
          "Defending",
          "Defending",
          "Chasing",
          "Chasing",
          "Chasing",
          "Defending",
          "Chasing",
          "Defending",
          "Defending",
          "Chasing",
          "Chasing",
          "Chasing",
          "Defending",
          "Chasing",
          "Chasing",
          "Defending",
          "Chasing",
          "Chasing",
          "Defending",
          "Chasing",
          "Defending",
          "Defending",
          "Defending",
          "Chasing",
          "Tied",
          "Defending",
          "Chasing",
          "Defending",
          "Defending",
          "Defending",
          "Chasing",
          "Chasing",
          "Defending",
          "Chasing",
          "Defending",
          "Chasing",
          "Tied",
          "Chasing",
          "Defending",
          "Chasing",
          "Chasing",
          "Chasing",
          "Defending",
          "Chasing",
          "Chasing",
          "Chasing",
          "Defending",
          "Defending",
          "Chasing",
          "Chasing",
          "Defending",
          "Chasing",
          "Chasing",
          "Defending",
          "Chasing",
          "Chasing",
          "Defending",
          "Tied",
          "Tied",
          "Chasing",
          "Chasing",
          "Defending",
          "Tied",
          "Chasing",
          "Chasing",
          "Defending",
          "Defending",
          "Defending",
          "Chasing",
          "Chasing",
          "Defending",
          "Chasing",
          "Chasing",
          "Chasing",
          "Defending",
          "Defending",
          "Chasing",
          "Chasing",
          "Chasing",
          "Defending",
          "Chasing",
          "Defending",
          "Chasing",
          "Chasing",
          "Chasing",
          "Chasing",
          "Chasing",
          "Defending",
          "Defending",
          "Defending",
          "Chasing",
          "Defending",
          "Defending",
          "Chasing",
          "Chasing",
          "Tied",
          "Chasing",
          "Tied",
          "Chasing",
          "Defending",
          "Defending",
          "Defending",
          "Chasing",
          "Defending",
          "Chasing",
          "Chasing",
          "Chasing",
          "Chasing",
          "Chasing",
          "Defending",
          "Defending",
          "Chasing",
          "Defending",
          "Chasing",
          "Chasing",
          "Defending",
          "Chasing",
          "Defending",
          "Chasing",
          "Chasing",
          "Chasing",
          "Chasing",
          "Defending",
          "Tied",
          "Chasing",
          "Defending",
          "Chasing",
          "Defending",
          "Chasing",
          "Defending",
          "Chasing",
          "Chasing",
          "Chasing",
          "Defending",
          "Chasing",
          "Chasing",
          "Tied",
          "Chasing",
          "Chasing",
          "Chasing",
          "Chasing",
          "Chasing",
          "Chasing",
          "Defending",
          "Chasing",
          "Chasing",
          "Defending",
          "Defending",
          "Defending",
          "Chasing",
          "Defending",
          "Defending",
          "Chasing",
          "Chasing",
          "Chasing",
          "Chasing",
          "Tied",
          "Chasing",
          "Defending",
          "Defending",
          "Defending",
          "Chasing",
          "Defending",
          "Defending",
          "Chasing",
          "Chasing",
          "Chasing",
          "Chasing",
          "Chasing",
          "Chasing",
          "Chasing",
          "Chasing",
          "Chasing",
          "Chasing",
          "Chasing",
          "Chasing",
          "Chasing",
          "Defending",
          "Chasing",
          "Chasing",
          "Chasing",
          "Tied",
          "Chasing",
          "Defending",
          "Chasing",
          "Chasing",
          "Defending",
          "Chasing",
          "Defending",
          "Defending",
          "Chasing",
          "Chasing",
          "Defending",
          "Chasing",
          "Defending",
          "Chasing",
          "Defending",
          "Defending",
          "Defending",
          "Chasing",
          "Defending",
          "Defending",
          "Chasing",
          "Chasing",
          "Chasing",
          "Chasing",
          "Defending",
          "Chasing",
          "Defending",
          "Defending",
          "Chasing",
          "Chasing",
          "Defending",
          "Defending",
          "Defending",
          "Chasing",
          "Defending",
          "Chasing",
          "Defending",
          "Defending",
          "Chasing",
          "Chasing",
          "Defending",
          "Chasing",
          "Defending",
          "Tied",
          "Chasing",
          "Chasing",
          "Defending",
          "Chasing",
          "Chasing",
          "Chasing",
          "Chasing",
          "Chasing",
          "Chasing",
          "Defending",
          "Chasing",
          "Chasing",
          "Chasing",
          "Chasing",
          "Defending",
          "Defending",
          "Chasing",
          "Defending",
          "Defending",
          "Defending",
          "Defending",
          "Defending",
          "Chasing",
          "Chasing",
          "Defending",
          "Defending",
          "Chasing",
          "Defending",
          "Defending",
          "Chasing",
          "Defending",
          "Defending",
          "Chasing",
          "Defending",
          "Defending",
          "Chasing",
          "Defending",
          "Chasing",
          "Defending",
          "Defending",
          "Defending",
          "Chasing",
          "Defending",
          "Defending",
          "Defending",
          "Defending",
          "Defending",
          "Defending",
          "Defending",
          "Chasing",
          "Chasing",
          "Defending",
          "Defending",
          "Chasing",
          "Defending",
          "Chasing",
          "Defending",
          "Chasing",
          "Chasing",
          "Chasing",
          "Chasing",
          "Defending",
          "Chasing",
          "Defending",
          "Chasing",
          "Chasing",
          "Defending",
          "Chasing",
          "Chasing",
          "Defending",
          "Chasing",
          "Chasing",
          "Defending",
          "Chasing",
          "Chasing",
          "Defending",
          "Defending",
          "Defending",
          "Chasing",
          "Defending",
          "Defending",
          "Chasing",
          "Defending",
          "Chasing",
          "Chasing",
          "Tied",
          "Defending",
          "Defending",
          "Defending",
          "Chasing",
          "Defending",
          "Chasing",
          "Chasing",
          "Defending",
          "Defending",
          "Chasing",
          "Chasing",
          "Chasing",
          "Defending",
          "Chasing",
          "Chasing",
          "Chasing",
          "Defending",
          "Defending",
          "Defending",
          "Defending",
          "Chasing",
          "Chasing",
          "Defending",
          "Defending",
          "Defending",
          "Chasing",
          "Defending",
          "Defending",
          "Defending",
          "Defending",
          "Chasing",
          "Chasing",
          "Chasing",
          "Defending",
          "Chasing",
          "Chasing",
          "Chasing",
          "Chasing",
          "Chasing",
          "Chasing",
          "Defending",
          "Defending",
          "Chasing",
          "Defending",
          "Tied",
          "Chasing",
          "Chasing",
          "Defending",
          "Chasing",
          "Chasing",
          "Defending",
          "Defending",
          "Chasing",
          "Chasing",
          "Defending",
          "Defending",
          "Chasing",
          "Defending",
          "Defending",
          "Defending",
          "Chasing",
          "Chasing",
          "Defending",
          "Defending",
          "Chasing",
          "Defending",
          "Defending",
          "Chasing",
          "Chasing",
          "Chasing",
          "Defending",
          "Tied",
          "Defending",
          "Defending",
          "Chasing",
          "Chasing",
          "Chasing",
          "Defending",
          "Chasing",
          "Defending",
          "Chasing",
          "Tied",
          "Chasing",
          "Defending",
          "Tied",
          "Chasing",
          "Defending",
          "Chasing",
          "Defending",
          "Defending",
          "Defending",
          "Chasing",
          "Defending",
          "Defending",
          "Chasing",
          "Chasing",
          "Defending",
          "Chasing",
          "Chasing",
          "Chasing",
          "Chasing",
          "Defending",
          "Defending",
          "Defending",
          "Defending",
          "Chasing",
          "Chasing",
          "Defending",
          "Defending",
          "Chasing",
          "Chasing",
          "Chasing",
          "Chasing",
          "Defending",
          "Chasing",
          "Defending",
          "Defending",
          "Chasing",
          "Defending",
          "Defending",
          "Defending",
          "Defending",
          "Chasing",
          "Chasing",
          "Chasing",
          "Chasing",
          "Chasing",
          "Defending",
          "Defending",
          "Chasing",
          "Defending",
          "Defending",
          "Chasing",
          "Defending",
          "Chasing",
          "Defending",
          "Defending",
          "Defending",
          "Chasing",
          "Defending",
          "Chasing",
          "Chasing",
          "Chasing",
          "Defending",
          "Defending",
          "Defending",
          "Defending",
          "Defending",
          "Defending",
          "Defending",
          "Chasing",
          "Defending",
          "Chasing",
          "Chasing",
          "Defending",
          "Chasing",
          "Chasing",
          "Defending",
          "Defending",
          "Defending",
          "Chasing",
          "Defending",
          "Defending",
          "Chasing",
          "Defending",
          "Chasing",
          "Defending",
          "Tied",
          "Defending",
          "Tied",
          "Defending",
          "Chasing",
          "Defending",
          "Defending",
          "Chasing",
          "Defending",
          "Tied",
          "Chasing",
          "Chasing",
          "Chasing",
          "Defending",
          "Defending",
          "Chasing",
          "Defending",
          "Chasing",
          "Chasing",
          "Defending",
          "Defending",
          "Defending",
          "Chasing",
          "Defending",
          "Defending",
          "Defending",
          "Chasing",
          "Chasing",
          "Chasing",
          "Chasing",
          "Defending",
          "Chasing",
          "Tied",
          "Chasing",
          "Defending",
          "Defending",
          "Tied",
          "Chasing",
          "Defending",
          "Defending",
          "Defending",
          "Chasing",
          "Defending",
          "Chasing",
          "Chasing",
          "Defending",
          "Defending",
          "Chasing",
          "Chasing",
          "Defending",
          "Chasing",
          "Chasing",
          "Defending",
          "Defending",
          "Chasing",
          "Chasing",
          "Chasing",
          "Chasing",
          "Defending",
          "Defending",
          "Chasing",
          "Defending",
          "Defending",
          "Defending",
          "Chasing",
          "Chasing",
          "Defending",
          "Defending",
          "Chasing",
          "Defending",
          "Defending",
          "Chasing",
          "Chasing",
          "Chasing",
          "Defending",
          "Defending",
          "Chasing",
          "Chasing",
          "Tied",
          "Chasing",
          "Chasing",
          "Defending",
          "Chasing",
          "Tied",
          "Chasing",
          "Defending",
          "Chasing",
          "Chasing",
          "Defending",
          "Chasing",
          "Defending",
          "Chasing",
          "Defending",
          "Defending",
          "Chasing",
          "Defending",
          "Chasing",
          "Chasing",
          "Chasing",
          "Defending",
          "Defending",
          "Defending",
          "Defending",
          "Chasing",
          "Chasing",
          "Chasing",
          "Defending",
          "Chasing",
          "Defending",
          "Defending",
          "Defending",
          "Chasing",
          "Chasing",
          "Defending",
          "Defending",
          "Defending",
          "Defending",
          "Chasing",
          "Chasing",
          "Defending",
          "Chasing",
          "Chasing",
          "Chasing",
          "Chasing",
          "Chasing",
          "Defending",
          "Defending",
          "Defending",
          "Chasing",
          "Chasing",
          "Chasing",
          "Chasing",
          "Defending",
          "Chasing",
          "Chasing",
          "Chasing",
          "Chasing",
          "Defending",
          "Defending",
          "Tied",
          "Defending",
          "Chasing",
          "Defending",
          "Defending",
          "Defending",
          "Chasing",
          "Tied",
          "Defending",
          "Defending",
          "Chasing",
          "Defending",
          "Defending",
          "Chasing",
          "Chasing",
          "Chasing",
          "Chasing",
          "Chasing",
          "Defending",
          "Tied",
          "Defending",
          "Defending",
          "Defending",
          "Tied",
          "Defending",
          "Defending",
          "Defending",
          "Defending",
          "Chasing",
          "Defending",
          "Tied",
          "Chasing",
          "Chasing",
          "Defending",
          "Defending",
          "Chasing",
          "Chasing",
          "Chasing",
          "Chasing",
          "Chasing",
          "Defending",
          "Defending",
          "Defending",
          "Defending",
          "Chasing",
          "Defending",
          "Defending",
          "Defending",
          "Defending",
          "Defending",
          "Defending",
          "Defending",
          "Chasing",
          "Defending",
          "Chasing",
          "Defending",
          "Defending",
          "Chasing",
          "Chasing",
          "Defending",
          "Chasing",
          "Defending",
          "Defending",
          "Chasing",
          "Defending",
          "Tied",
          "Chasing",
          "Defending",
          "Chasing",
          "Defending",
          "Chasing",
          "Chasing",
          "Defending",
          "Defending",
          "Defending",
          "Defending",
          "Chasing",
          "Chasing",
          "Chasing",
          "Chasing",
          "Defending",
          "Chasing",
          "Defending",
          "Defending",
          "Defending",
          "Chasing",
          "Chasing",
          "Defending",
          "Chasing",
          "Defending",
          "Chasing",
          "Chasing",
          "Tied",
          "Chasing",
          "Defending",
          "Defending",
          "Chasing",
          "Chasing",
          "Chasing",
          "Defending",
          "Chasing",
          "Chasing",
          "Defending",
          "Defending",
          "Defending",
          "Defending",
          "Chasing",
          "Chasing",
          "Chasing",
          "Tied",
          "Chasing",
          "Chasing",
          "Defending",
          "Defending",
          "Defending",
          "Defending",
          "Defending",
          "Defending",
          "Defending",
          "Defending",
          "Defending",
          "Chasing",
          "Defending",
          "Chasing",
          "Chasing",
          "Defending",
          "Defending",
          "Defending",
          "Defending",
          "Tied",
          "Chasing",
          "Defending",
          "Chasing",
          "Defending",
          "Defending",
          "Chasing",
          "Chasing",
          "Chasing",
          "Defending",
          "Defending",
          "Defending",
          "Defending",
          "Defending",
          "Defending",
          "Defending",
          "Chasing",
          "Chasing",
          "Chasing",
          "Defending",
          "Defending",
          "Chasing",
          "Tied",
          "Defending",
          "Chasing",
          "Chasing",
          "Defending",
          "Defending",
          "Defending",
          "Defending",
          "Chasing",
          "Chasing",
          "Defending",
          "Defending",
          "Defending",
          "Chasing",
          "Defending",
          "Defending",
          "Chasing",
          "Chasing",
          "Chasing",
          "Chasing",
          "Chasing",
          "Defending",
          "Defending",
          "Chasing",
          "Defending",
          "Chasing",
          "Defending",
          "Defending",
          "Defending",
          "Chasing",
          "Defending",
          "Chasing",
          "Defending",
          "Defending",
          "Defending",
          "Chasing",
          "Chasing",
          "Chasing",
          "Defending",
          "Chasing",
          "Defending",
          "Chasing",
          "Chasing",
          "Defending",
          "Defending",
          "Defending",
          "Chasing",
          "Defending",
          "Chasing",
          "Defending",
          "Chasing",
          "Defending",
          "Chasing",
          "Defending",
          "Chasing",
          "Defending",
          "Chasing",
          "Defending",
          "Chasing",
          "Chasing",
          "Chasing",
          "Defending",
          "Defending",
          "Defending",
          "Defending",
          "Defending",
          "Chasing",
          "Defending",
          "Defending",
          "Defending",
          "Chasing",
          "Defending",
          "Chasing",
          "Chasing",
          "Chasing",
          "Chasing",
          "Chasing",
          "Defending",
          "Defending",
          "Chasing",
          "Defending",
          "Tied",
          "Chasing",
          "Chasing",
          "Defending",
          "Defending",
          "Defending",
          "Chasing",
          "Chasing",
          "Chasing",
          "Chasing",
          "Chasing",
          "Chasing",
          "Defending",
          "Defending",
          "Defending",
          "Defending",
          "Chasing",
          "Defending",
          "Defending",
          "Chasing",
          "Tied",
          "Defending",
          "Chasing",
          "Chasing",
          "Chasing",
          "Chasing",
          "Tied",
          "Defending",
          "Defending",
          "Defending",
          "Chasing",
          "Chasing",
          "Defending",
          "Defending",
          "Defending",
          "Defending",
          "Defending",
          "Defending",
          "Chasing",
          "Chasing",
          "Defending",
          "Tied",
          "Chasing",
          "Chasing",
          "Defending",
          "Chasing",
          "Chasing",
          "Chasing",
          "Defending",
          "Chasing",
          "Chasing",
          "Chasing",
          "Chasing",
          "Defending",
          "Chasing",
          "Chasing",
          "Defending",
          "Defending",
          "Defending",
          "Chasing",
          "Defending",
          "Chasing",
          "Chasing",
          "Defending",
          "Defending",
          "Chasing",
          "Defending",
          "Chasing",
          "Chasing",
          "Defending",
          "Chasing",
          "Chasing",
          "Chasing",
          "Chasing",
          "Chasing",
          "Defending",
          "Defending",
          "Defending",
          "Defending",
          "Defending",
          "Chasing",
          "Tied",
          "Chasing",
          "Chasing",
          "Defending",
          "Defending",
          "Chasing",
          "Defending",
          "Chasing",
          "Chasing",
          "Defending",
          "Defending",
          "Chasing",
          "Chasing",
          "Chasing",
          "Defending",
          "Chasing",
          "Defending",
          "Chasing",
          "Defending",
          "Chasing",
          "Chasing",
          "Chasing",
          "Chasing",
          "Chasing",
          "Defending",
          "Defending",
          "Chasing",
          "Tied",
          "Chasing",
          "Chasing",
          "Chasing",
          "Chasing",
          "Chasing",
          "Chasing",
          "Tied",
          "Defending",
          "Chasing",
          "Chasing",
          "Chasing",
          "Tied",
          "Defending",
          "Defending",
          "Chasing",
          "Defending",
          "Chasing",
          "Chasing",
          "Defending",
          "Chasing",
          "Defending",
          "Defending",
          "Defending",
          "Defending",
          "Defending",
          "Defending",
          "Defending",
          "Chasing",
          "Chasing",
          "Defending",
          "Chasing",
          "Chasing",
          "Defending",
          "Chasing",
          "Defending",
          "Defending",
          "Chasing",
          "Chasing",
          "Defending",
          "Defending",
          "Chasing",
          "Defending",
          "Chasing",
          "Chasing",
          "Defending",
          "Defending",
          "Defending",
          "Defending",
          "Chasing",
          "Tied",
          "Defending",
          "Chasing",
          "Chasing",
          "Defending",
          "Chasing",
          "Tied",
          "Defending",
          "Defending",
          "Chasing",
          "Tied",
          "Defending",
          "Chasing",
          "Chasing",
          "Chasing",
          "Chasing",
          "Tied",
          "Chasing",
          "Chasing",
          "Defending",
          "Defending",
          "Defending",
          "Chasing",
          "Defending",
          "Chasing",
          "Chasing",
          "Defending",
          "Defending",
          "Chasing",
          "Defending",
          "Chasing",
          "Chasing",
          "Chasing",
          "Defending",
          "Chasing",
          "Defending",
          "Defending",
          "Chasing",
          "Defending",
          "Defending",
          "Defending",
          "Defending",
          "Chasing",
          "Chasing",
          "Defending",
          "Defending",
          "Chasing",
          "Chasing",
          "Chasing",
          "Tied",
          "Chasing",
          "Defending",
          "Chasing",
          "Defending",
          "Chasing",
          "Chasing",
          "Chasing",
          "Defending",
          "Chasing",
          "Defending",
          "Chasing",
          "Chasing",
          "Chasing",
          "Chasing",
          "Defending",
          "Chasing",
          "Chasing",
          "Chasing",
          "Defending",
          "Defending",
          "Chasing",
          "Chasing",
          "Defending",
          "Chasing",
          "Defending",
          "Defending",
          "Chasing",
          "Defending",
          "Chasing",
          "Chasing",
          "Defending",
          "Defending",
          "Chasing",
          "Defending",
          "Defending",
          "Chasing",
          "Defending",
          "Defending",
          "Chasing",
          "Chasing",
          "Chasing",
          "Defending",
          "Defending",
          "Defending",
          "Defending",
          "Chasing",
          "Chasing",
          "Chasing",
          "Defending",
          "Chasing",
          "Defending",
          "Chasing",
          "Chasing",
          "Defending",
          "Chasing",
          "Chasing",
          "Defending",
          "Chasing",
          "Chasing",
          "Chasing",
          "Chasing",
          "Chasing",
          "Chasing",
          "Defending",
          "Defending",
          "Chasing",
          "Chasing",
          "Defending",
          "Chasing",
          "Chasing",
          "Chasing",
          "Tied",
          "Defending",
          "Tied",
          "Defending",
          "Defending",
          "Defending",
          "Defending",
          "Defending",
          "Chasing",
          "Chasing",
          "Defending",
          "Defending",
          "Defending",
          "Chasing",
          "Chasing",
          "Chasing",
          "Defending",
          "Chasing",
          "Chasing",
          "Chasing",
          "Defending",
          "Defending",
          "Defending",
          "Chasing",
          "Chasing",
          "Defending",
          "Chasing",
          "Chasing",
          "Chasing",
          "Chasing",
          "Defending",
          "Chasing",
          "Defending",
          "Defending",
          "Chasing",
          "Chasing",
          "Chasing",
          "Defending",
          "Chasing",
          "Defending",
          "Chasing",
          "Chasing",
          "Chasing",
          "Tied",
          "Chasing",
          "Chasing",
          "Defending",
          "Defending",
          "Chasing",
          "Chasing",
          "Chasing",
          "Chasing",
          "Defending",
          "Defending",
          "Defending",
          "Defending",
          "Defending",
          "Defending",
          "Defending",
          "Defending",
          "Defending",
          "Chasing",
          "Defending",
          "Defending",
          "Defending",
          "Defending",
          "Defending",
          "Chasing",
          "Chasing",
          "Chasing",
          "Defending",
          "Defending",
          "Defending",
          "Chasing",
          "Defending",
          "Defending",
          "Defending",
          "Defending",
          "Defending",
          "Tied",
          "Chasing",
          "Chasing",
          "Defending",
          "Defending",
          "Defending",
          "Tied",
          "Defending",
          "Chasing",
          "Defending",
          "Defending",
          "Defending",
          "Defending",
          "Defending",
          "Defending",
          "Defending",
          "Chasing",
          "Defending",
          "Chasing",
          "Chasing",
          "Defending",
          "Tied",
          "Chasing",
          "Chasing",
          "Chasing",
          "Chasing",
          "Chasing",
          "Chasing",
          "Defending",
          "Chasing",
          "Chasing",
          "Defending",
          "Defending",
          "Chasing",
          "Defending",
          "Chasing",
          "Defending",
          "Chasing",
          "Defending",
          "Defending",
          "Defending",
          "Chasing",
          "Chasing",
          "Chasing",
          "Defending",
          "Chasing",
          "Chasing",
          "Defending",
          "Defending",
          "Defending",
          "Defending",
          "Chasing",
          "Defending",
          "Chasing",
          "Defending",
          "Chasing",
          "Tied",
          "Defending",
          "Defending",
          "Defending",
          "Defending",
          "Chasing",
          "Chasing",
          "Chasing",
          "Tied",
          "Chasing",
          "Defending",
          "Chasing",
          "Chasing",
          "Defending",
          "Defending",
          "Defending",
          "Chasing",
          "Chasing",
          "Defending",
          "Defending",
          "Tied",
          "Chasing",
          "Chasing",
          "Defending",
          "Defending",
          "Defending",
          "Defending",
          "Chasing",
          "Chasing",
          "Chasing",
          "Chasing",
          "Defending",
          "Defending",
          "Defending",
          "Defending",
          "Defending",
          "Defending",
          "Chasing",
          "Defending",
          "Tied",
          "Chasing",
          "Defending",
          "Defending",
          "Defending",
          "Defending",
          "Chasing",
          "Chasing",
          "Defending",
          "Defending",
          "Defending",
          "Defending",
          "Chasing",
          "Tied",
          "Defending",
          "Defending",
          "Chasing",
          "Chasing",
          "Chasing",
          "Chasing",
          "Chasing",
          "Chasing",
          "Defending",
          "Chasing",
          "Defending",
          "Defending",
          "Chasing",
          "Chasing",
          "Defending",
          "Defending",
          "Chasing",
          "Defending",
          "Chasing",
          "Defending",
          "Defending",
          "Defending",
          "Defending",
          "Defending",
          "Chasing",
          "Chasing",
          "Chasing",
          "Chasing",
          "Defending",
          "Chasing",
          "Defending",
          "Defending",
          "Defending",
          "Defending",
          "Chasing",
          "Tied",
          "Chasing",
          "Chasing",
          "Defending",
          "Defending",
          "Defending",
          "Defending",
          "Chasing",
          "Chasing",
          "Chasing",
          "Chasing",
          "Chasing",
          "Chasing",
          "Defending",
          "Chasing",
          "Chasing",
          "Chasing",
          "Defending",
          "Chasing",
          "Defending",
          "Defending",
          "Defending",
          "Defending",
          "Chasing",
          "Chasing",
          "Defending",
          "Chasing",
          "Chasing",
          "Chasing",
          "Defending",
          "Defending",
          "Defending",
          "Chasing",
          "Chasing",
          "Chasing",
          "Defending",
          "Defending",
          "Defending",
          "Chasing",
          "Defending",
          "Chasing",
          "Defending",
          "Chasing",
          "Defending",
          "Chasing",
          "Chasing",
          "Tied",
          "Chasing",
          "Defending",
          "Chasing",
          "Chasing",
          "Defending",
          "Chasing",
          "Chasing",
          "Defending",
          "Defending",
          "Chasing",
          "Defending",
          "Tied",
          "Defending",
          "Defending",
          "Defending",
          "Chasing",
          "Defending",
          "Chasing",
          "Defending",
          "Chasing",
          "Chasing",
          "Defending",
          "Chasing",
          "Defending",
          "Chasing",
          "Defending",
          "Chasing",
          "Chasing",
          "Defending",
          "Chasing",
          "Chasing",
          "Tied",
          "Chasing",
          "Chasing",
          "Defending",
          "Chasing",
          "Defending",
          "Defending",
          "Chasing",
          "Chasing",
          "Defending",
          "Chasing",
          "Defending",
          "Chasing",
          "Chasing",
          "Chasing",
          "Chasing",
          "Defending",
          "Chasing",
          "Chasing",
          "Defending",
          "Chasing",
          "Defending",
          "Defending",
          "Chasing",
          "Chasing",
          "Chasing",
          "Defending",
          "Defending",
          "Chasing",
          "Chasing",
          "Chasing",
          "Defending",
          "Defending",
          "Chasing",
          "Defending",
          "Defending",
          "Chasing",
          "Defending",
          "Chasing",
          "Defending",
          "Defending",
          "Chasing",
          "Defending",
          "Chasing",
          "Defending",
          "Defending",
          "Defending",
          "Defending",
          "Chasing",
          "Chasing",
          "Defending",
          "Defending",
          "Chasing",
          "Chasing",
          "Defending",
          "Defending",
          "Chasing",
          "Chasing",
          "Defending",
          "Defending",
          "Chasing",
          "Chasing",
          "Defending",
          "Defending",
          "Defending",
          "Defending",
          "Chasing",
          "Defending",
          "Chasing",
          "Defending",
          "Defending",
          "Chasing",
          "Chasing",
          "Defending",
          "Chasing",
          "Chasing",
          "Defending",
          "Chasing",
          "Defending",
          "Chasing",
          "Chasing",
          "Defending",
          "Defending",
          "Tied",
          "Defending",
          "Chasing",
          "Defending",
          "Chasing",
          "Chasing",
          "Chasing",
          "Chasing",
          "Chasing",
          "Chasing",
          "Defending",
          "Defending",
          "Defending",
          "Defending",
          "Chasing",
          "Defending",
          "Chasing",
          "Defending",
          "Defending",
          "Chasing",
          "Defending",
          "Defending",
          "Chasing",
          "Chasing",
          "Defending",
          "Defending",
          "Chasing",
          "Chasing",
          "Chasing",
          "Chasing",
          "Chasing",
          "Chasing",
          "Defending",
          "Defending",
          "Chasing",
          "Chasing",
          "Chasing",
          "Defending",
          "Defending",
          "Defending",
          "Defending",
          "Defending",
          "Chasing",
          "Chasing",
          "Defending",
          "Defending",
          "Defending",
          "Chasing",
          "Chasing",
          "Chasing",
          "Defending",
          "Chasing",
          "Chasing",
          "Chasing",
          "Defending",
          "Defending",
          "Chasing",
          "Chasing",
          "Defending",
          "Defending",
          "Chasing",
          "Defending",
          "Defending",
          "Chasing",
          "Defending",
          "Defending",
          "Defending",
          "Chasing",
          "Defending",
          "Defending",
          "Chasing",
          "Chasing",
          "Defending",
          "Defending",
          "Chasing",
          "Chasing",
          "Defending",
          "Defending",
          "Defending",
          "Defending",
          "Chasing",
          "Chasing",
          "Chasing",
          "Chasing",
          "Defending",
          "Defending",
          "Defending",
          "Defending",
          "Defending",
          "Chasing",
          "Chasing",
          "Defending",
          "Chasing",
          "Chasing",
          "Defending",
          "Defending",
          "Defending",
          "Tied",
          "Defending",
          "Chasing",
          "Chasing",
          "Defending",
          "Defending",
          "Defending",
          "Defending",
          "Defending",
          "Defending",
          "Chasing",
          "Defending",
          "Defending",
          "Chasing",
          "Defending",
          "Chasing",
          "Chasing",
          "Defending",
          "Tied",
          "Chasing",
          "Chasing",
          "Chasing",
          "Defending",
          "Chasing",
          "Chasing",
          "Defending",
          "Defending",
          "Chasing",
          "Chasing",
          "Chasing",
          "Tied",
          "Chasing",
          "Defending",
          "Defending",
          "Defending",
          "Chasing",
          "Chasing",
          "Chasing",
          "Defending",
          "Defending",
          "Defending",
          "Defending",
          "Defending",
          "Defending",
          "Chasing",
          "Defending",
          "Chasing",
          "Defending",
          "Chasing",
          "Chasing",
          "Chasing",
          "Chasing",
          "Tied",
          "Chasing",
          "Chasing",
          "Defending",
          "Defending",
          "Defending",
          "Defending",
          "Defending",
          "Chasing",
          "Defending",
          "Chasing",
          "Chasing",
          "Defending",
          "Defending",
          "Chasing",
          "Tied",
          "Tied",
          "Defending",
          "Chasing",
          "Chasing",
          "Chasing",
          "Chasing",
          "Defending",
          "Chasing",
          "Chasing",
          "Chasing",
          "Defending",
          "Defending",
          "Defending",
          "Defending",
          "Chasing",
          "Tied",
          "Defending",
          "Chasing",
          "Defending",
          "Chasing",
          "Defending",
          "Defending",
          "Chasing",
          "Chasing",
          "Tied",
          "Defending",
          "Defending",
          "Defending",
          "Chasing",
          "Defending",
          "Defending",
          "Chasing",
          "Chasing",
          "Defending",
          "Defending",
          "Defending",
          "Defending",
          "Chasing",
          "Defending",
          "Chasing",
          "Chasing",
          "Chasing",
          "Defending",
          "Defending",
          "Chasing",
          "Defending",
          "Chasing",
          "Chasing",
          "Defending",
          "Chasing",
          "Chasing",
          "Chasing",
          "Defending",
          "Defending",
          "Defending",
          "Defending",
          "Defending",
          "Defending",
          "Chasing",
          "Defending",
          "Defending",
          "Chasing",
          "Chasing",
          "Chasing",
          "Chasing",
          "Defending",
          "Chasing",
          "Tied",
          "Defending",
          "Chasing",
          "Defending",
          "Defending",
          "Chasing",
          "Defending",
          "Chasing",
          "Defending",
          "Defending",
          "Chasing",
          "Defending",
          "Chasing",
          "Defending",
          "Defending",
          "Defending",
          "Defending",
          "Defending",
          "Defending",
          "Chasing",
          "Chasing",
          "Chasing",
          "Defending",
          "Tied",
          "Tied",
          "Defending",
          "Defending",
          "Chasing",
          "Chasing",
          "Defending",
          "Defending",
          "Chasing",
          "Chasing",
          "Defending",
          "Chasing",
          "Defending",
          "Defending",
          "Defending",
          "Defending",
          "Chasing",
          "Chasing",
          "Defending",
          "Chasing",
          "Defending",
          "Chasing",
          "Defending",
          "Defending",
          "Defending",
          "Chasing",
          "Defending",
          "Chasing",
          "Tied",
          "Defending",
          "Chasing",
          "Chasing",
          "Defending",
          "Defending",
          "Chasing",
          "Defending",
          "Defending",
          "Defending",
          "Chasing",
          "Defending",
          "Defending",
          "Chasing",
          "Chasing",
          "Defending",
          "Chasing",
          "Chasing",
          "Chasing",
          "Chasing",
          "Chasing",
          "Chasing",
          "Chasing",
          "Defending",
          "Tied",
          "Chasing",
          "Chasing",
          "Chasing",
          "Chasing",
          "Chasing",
          "Chasing",
          "Chasing",
          "Chasing",
          "Defending",
          "Defending",
          "Defending",
          "Defending",
          "Chasing",
          "Defending",
          "Defending",
          "Defending",
          "Defending",
          "Chasing",
          "Chasing",
          "Tied",
          "Defending",
          "Chasing",
          "Defending",
          "Chasing",
          "Chasing",
          "Chasing",
          "Defending",
          "Chasing",
          "Chasing",
          "Defending",
          "Defending",
          "Chasing",
          "Defending",
          "Defending",
          "Chasing",
          "Defending",
          "Defending",
          "Chasing",
          "Chasing",
          "Defending",
          "Defending",
          "Chasing",
          "Defending",
          "Chasing",
          "Chasing",
          "Defending",
          "Chasing",
          "Defending",
          "Chasing",
          "Chasing",
          "Defending",
          "Defending",
          "Defending",
          "Defending",
          "Chasing",
          "Defending",
          "Defending",
          "Defending",
          "Defending",
          "Tied",
          "Tied",
          "Chasing",
          "Chasing",
          "Chasing",
          "Chasing",
          "Chasing",
          "Defending",
          "Chasing",
          "Chasing",
          "Defending",
          "Defending",
          "Defending",
          "Chasing",
          "Chasing",
          "Defending",
          "Defending",
          "Chasing",
          "Chasing",
          "Defending",
          "Defending",
          "Defending",
          "Chasing",
          "Defending",
          "Chasing",
          "Chasing",
          "Defending",
          "Chasing",
          "Defending",
          "Chasing",
          "Tied",
          "Chasing",
          "Defending",
          "Defending",
          "Chasing",
          "Chasing",
          "Chasing",
          "Chasing",
          "Defending",
          "Chasing",
          "Chasing",
          "Defending",
          "Chasing",
          "Tied",
          "Chasing",
          "Chasing",
          "Chasing",
          "Chasing",
          "Chasing",
          "Chasing",
          "Tied",
          "Defending",
          "Defending",
          "Defending",
          "Defending",
          "Defending",
          "Defending",
          "Defending",
          "Chasing",
          "Chasing",
          "Chasing",
          "Defending",
          "Defending",
          "Chasing",
          "Defending",
          "Chasing",
          "Defending",
          "Defending",
          "Tied",
          "Chasing",
          "Chasing",
          "Defending",
          "Defending",
          "Chasing",
          "Defending",
          "Defending",
          "Defending",
          "Defending",
          "Defending",
          "Defending",
          "Chasing",
          "Chasing",
          "Chasing",
          "Chasing",
          "Defending",
          "Chasing",
          "Defending",
          "Chasing",
          "Chasing",
          "Chasing",
          "Chasing",
          "Chasing",
          "Defending",
          "Chasing",
          "Chasing",
          "Chasing",
          "Chasing",
          "Defending",
          "Defending",
          "Chasing",
          "Defending",
          "Chasing",
          "Chasing",
          "Defending",
          "Chasing",
          "Chasing",
          "Defending",
          "Defending",
          "Defending",
          "Chasing",
          "Defending",
          "Defending",
          "Defending",
          "Defending",
          "Chasing",
          "Chasing",
          "Defending",
          "Tied",
          "Chasing",
          "Defending",
          "Defending",
          "Defending",
          "Defending",
          "Defending",
          "Chasing",
          "Defending",
          "Chasing",
          "Defending",
          "Tied",
          "Defending",
          "Chasing",
          "Defending",
          "Defending",
          "Defending",
          "Tied",
          "Chasing",
          "Defending",
          "Defending",
          "Defending",
          "Defending",
          "Defending",
          "Chasing",
          "Chasing",
          "Defending",
          "Defending",
          "Defending",
          "Defending",
          "Chasing",
          "Chasing",
          "Defending",
          "Chasing",
          "Chasing",
          "Defending",
          "Chasing",
          "Chasing",
          "Defending",
          "Defending",
          "Defending",
          "Chasing",
          "Chasing",
          "Chasing",
          "Defending",
          "Defending",
          "Chasing",
          "Chasing",
          "Tied",
          "Chasing",
          "Tied",
          "Chasing",
          "Chasing",
          "Chasing",
          "Chasing",
          "Chasing",
          "Defending",
          "Chasing",
          "Defending",
          "Defending",
          "Defending",
          "Defending",
          "Defending",
          "Tied",
          "Defending",
          "Defending",
          "Defending",
          "Defending",
          "Defending",
          "Defending",
          "Chasing",
          "Chasing",
          "Chasing",
          "Chasing",
          "Defending",
          "Defending",
          "Defending",
          "Chasing",
          "Defending",
          "Chasing",
          "Defending",
          "Chasing",
          "Chasing",
          "Chasing",
          "Tied",
          "Chasing",
          "Chasing",
          "Chasing",
          "Chasing",
          "Chasing",
          "Chasing",
          "Chasing",
          "Chasing",
          "Defending",
          "Defending",
          "Chasing",
          "Defending",
          "Chasing",
          "Defending",
          "Defending",
          "Defending",
          "Chasing",
          "Chasing",
          "Defending",
          "Defending",
          "Defending",
          "Chasing",
          "Defending",
          "Defending",
          "Defending",
          "Defending",
          "Chasing",
          "Chasing",
          "Chasing",
          "Defending",
          "Defending",
          "Defending",
          "Defending",
          "Defending",
          "Chasing",
          "Defending",
          "Chasing",
          "Chasing",
          "Chasing",
          "Defending",
          "Chasing",
          "Chasing",
          "Chasing",
          "Chasing",
          "Defending",
          "Defending",
          "Chasing",
          "Defending",
          "Chasing",
          "Defending",
          "Defending",
          "Defending",
          "Defending",
          "Chasing",
          "Defending",
          "Chasing",
          "Chasing",
          "Defending",
          "Tied",
          "Chasing",
          "Chasing",
          "Chasing",
          "Defending",
          "Chasing",
          "Defending",
          "Chasing",
          "Defending",
          "Chasing",
          "Chasing",
          "Chasing",
          "Chasing",
          "Defending",
          "Chasing",
          "Defending",
          "Chasing",
          "Chasing",
          "Defending",
          "Defending",
          "Chasing",
          "Tied",
          "Defending",
          "Defending",
          "Chasing",
          "Defending",
          "Chasing",
          "Defending",
          "Defending",
          "Chasing",
          "Chasing",
          "Defending",
          "Defending",
          "Defending",
          "Defending",
          "Chasing",
          "Chasing",
          "Defending",
          "Chasing",
          "Defending",
          "Defending",
          "Chasing",
          "Defending",
          "Chasing",
          "Chasing",
          "Defending",
          "Defending",
          "Chasing",
          "Chasing",
          "Chasing",
          "Tied",
          "Chasing",
          "Chasing",
          "Chasing",
          "Tied",
          "Chasing",
          "Defending",
          "Tied",
          "Chasing",
          "Chasing",
          "Chasing",
          "Chasing",
          "Defending",
          "Defending",
          "Chasing",
          "Tied",
          "Chasing",
          "Chasing",
          "Defending",
          "Defending",
          "Defending",
          "Defending",
          "Defending",
          "Chasing",
          "Defending",
          "Chasing",
          "Defending",
          "Chasing",
          "Chasing",
          "Defending",
          "Chasing",
          "Defending",
          "Chasing",
          "Chasing",
          "Defending",
          "Defending",
          "Chasing",
          "Defending",
          "Chasing",
          "Chasing",
          "Defending",
          "Chasing",
          "Chasing",
          "Defending",
          "Chasing",
          "Defending",
          "Defending",
          "Defending",
          "Defending",
          "Chasing",
          "Chasing",
          "Defending",
          "Chasing",
          "Chasing",
          "Chasing",
          "Chasing",
          "Chasing",
          "Chasing",
          "Defending",
          "Chasing",
          "Chasing",
          "Chasing",
          "Chasing",
          "Chasing",
          "Chasing",
          "Chasing",
          "Defending",
          "Chasing",
          "Chasing",
          "Chasing",
          "Defending",
          "Tied",
          "Chasing",
          "Defending",
          "Chasing",
          "Defending",
          "Chasing",
          "Chasing",
          "Chasing",
          "Defending",
          "Defending",
          "Defending",
          "Chasing",
          "Defending",
          "Defending",
          "Chasing",
          "Chasing",
          "Defending",
          "Chasing",
          "Defending",
          "Chasing",
          "Chasing",
          "Defending",
          "Chasing",
          "Defending",
          "Chasing",
          "Defending",
          "Defending",
          "Chasing",
          "Defending",
          "Chasing",
          "Chasing",
          "Chasing",
          "Defending",
          "Defending",
          "Defending",
          "Chasing",
          "Defending",
          "Defending",
          "Defending",
          "Chasing",
          "Chasing",
          "Defending",
          "Tied",
          "Chasing",
          "Defending",
          "Tied",
          "Chasing",
          "Defending",
          "Defending",
          "Chasing",
          "Chasing",
          "Chasing",
          "Chasing",
          "Chasing",
          "Chasing",
          "Chasing",
          "Chasing",
          "Chasing",
          "Defending",
          "Defending",
          "Defending",
          "Chasing",
          "Defending",
          "Tied",
          "Chasing",
          "Defending",
          "Chasing",
          "Chasing",
          "Defending",
          "Defending",
          "Defending",
          "Chasing",
          "Defending",
          "Chasing",
          "Defending",
          "Defending",
          "Defending",
          "Chasing",
          "Defending",
          "Chasing",
          "Defending",
          "Chasing",
          "Chasing",
          "Defending",
          "Chasing",
          "Chasing",
          "Defending",
          "Chasing",
          "Defending",
          "Chasing",
          "Chasing",
          "Defending",
          "Defending",
          "Chasing",
          "Defending",
          "Defending",
          "Chasing",
          "Chasing",
          "Chasing",
          "Chasing",
          "Defending",
          "Chasing",
          "Chasing",
          "Chasing",
          "Defending",
          "Defending",
          "Chasing",
          "Defending",
          "Chasing",
          "Defending",
          "Chasing",
          "Defending",
          "Chasing",
          "Defending",
          "Defending",
          "Defending",
          "Defending",
          "Defending",
          "Chasing",
          "Defending",
          "Chasing",
          "Chasing",
          "Defending",
          "Chasing",
          "Defending",
          "Defending",
          "Defending",
          "Chasing",
          "Defending",
          "Chasing",
          "Tied",
          "Tied",
          "Defending",
          "Defending",
          "Chasing",
          "Defending",
          "Chasing",
          "Defending",
          "Chasing",
          "Defending",
          "Chasing",
          "Defending",
          "Chasing",
          "Defending",
          "Defending",
          "Chasing",
          "Defending",
          "Chasing",
          "Chasing",
          "Tied",
          "Defending",
          "Defending",
          "Defending",
          "Defending",
          "Chasing",
          "Defending",
          "Chasing",
          "Chasing",
          "Defending",
          "Defending",
          "Chasing",
          "Defending",
          "Chasing",
          "Defending",
          "Chasing",
          "Chasing",
          "Chasing",
          "Chasing",
          "Chasing",
          "Chasing",
          "Defending",
          "Chasing",
          "Chasing",
          "Defending",
          "Chasing",
          "Defending",
          "Chasing",
          "Defending",
          "Chasing",
          "Defending",
          "Chasing",
          "Chasing",
          "Chasing",
          "Chasing",
          "Tied",
          "Defending",
          "Chasing",
          "Defending",
          "Chasing",
          "Chasing",
          "Defending",
          "Chasing",
          "Defending",
          "Defending",
          "Chasing",
          "Chasing",
          "Chasing",
          "Chasing",
          "Tied",
          "Chasing",
          "Tied",
          "Defending",
          "Chasing",
          "Chasing",
          "Chasing",
          "Chasing",
          "Chasing",
          "Defending",
          "Defending",
          "Chasing",
          "Tied",
          "Defending",
          "Defending",
          "Defending",
          "Chasing",
          "Defending",
          "Chasing",
          "Defending",
          "Chasing",
          "Chasing",
          "Chasing",
          "Chasing",
          "Defending",
          "Defending",
          "Defending",
          "Chasing",
          "Chasing",
          "Chasing",
          "Defending",
          "Tied",
          "Chasing",
          "Defending",
          "Defending",
          "Defending",
          "Chasing",
          "Defending",
          "Defending",
          "Tied",
          "Defending",
          "Defending",
          "Defending",
          "Defending",
          "Defending",
          "Defending",
          "Chasing",
          "Chasing",
          "Defending",
          "Defending",
          "Defending",
          "Chasing",
          "Chasing",
          "Defending",
          "Chasing",
          "Defending",
          "Defending",
          "Defending",
          "Defending",
          "Chasing",
          "Chasing",
          "Chasing",
          "Chasing",
          "Chasing",
          "Defending",
          "Defending",
          "Defending",
          "Chasing",
          "Chasing",
          "Chasing",
          "Chasing",
          "Tied",
          "Chasing",
          "Tied",
          "Defending",
          "Chasing",
          "Chasing",
          "Chasing",
          "Defending",
          "Defending",
          "Defending",
          "Defending",
          "Chasing",
          "Tied",
          "Chasing",
          "Defending",
          "Defending",
          "Defending",
          "Defending",
          "Chasing",
          "Chasing",
          "Tied",
          "Defending",
          "Chasing",
          "Defending",
          "Defending",
          "Defending",
          "Defending",
          "Defending",
          "Defending",
          "Chasing",
          "Defending",
          "Defending",
          "Chasing",
          "Defending",
          "Defending",
          "Defending",
          "Defending",
          "Defending",
          "Chasing",
          "Chasing",
          "Defending",
          "Defending",
          "Chasing",
          "Chasing",
          "Defending",
          "Tied",
          "Chasing",
          "Chasing",
          "Tied",
          "Defending",
          "Defending",
          "Defending",
          "Chasing",
          "Chasing",
          "Chasing",
          "Defending",
          "Chasing",
          "Chasing",
          "Chasing",
          "Defending",
          "Chasing",
          "Chasing",
          "Defending",
          "Chasing",
          "Defending",
          "Chasing",
          "Defending",
          "Defending",
          "Chasing",
          "Defending",
          "Chasing",
          "Defending",
          "Defending",
          "Chasing",
          "Defending",
          "Chasing",
          "Defending",
          "Defending",
          "Chasing",
          "Tied",
          "Defending",
          "Tied",
          "Defending",
          "Defending",
          "Chasing",
          "Defending",
          "Defending",
          "Chasing",
          "Chasing",
          "Chasing",
          "Chasing",
          "Defending",
          "Defending",
          "Chasing",
          "Chasing",
          "Chasing",
          "Defending",
          "Defending",
          "Defending",
          "Defending",
          "Defending",
          "Defending",
          "Chasing",
          "Chasing",
          "Chasing",
          "Chasing",
          "Defending",
          "Chasing",
          "Chasing",
          "Chasing",
          "Defending",
          "Defending",
          "Chasing",
          "Chasing",
          "Tied",
          "Chasing",
          "Chasing",
          "Chasing",
          "Defending",
          "Defending",
          "Defending",
          "Defending",
          "Chasing",
          "Defending",
          "Chasing",
          "Chasing",
          "Chasing",
          "Defending",
          "Chasing",
          "Defending",
          "Defending",
          "Defending",
          "Chasing",
          "Chasing",
          "Chasing",
          "Defending",
          "Tied",
          "Defending",
          "Defending",
          "Defending",
          "Chasing",
          "Defending",
          "Defending",
          "Defending",
          "Chasing",
          "Chasing",
          "Defending",
          "Chasing",
          "Defending",
          "Chasing",
          "Defending",
          "Chasing",
          "Defending",
          "Chasing",
          "Chasing",
          "Chasing",
          "Defending",
          "Defending",
          "Defending",
          "Defending",
          "Tied",
          "Chasing",
          "Chasing",
          "Chasing",
          "Chasing",
          "Chasing",
          "Chasing",
          "Defending",
          "Defending",
          "Defending",
          "Chasing",
          "Defending",
          "Defending",
          "Chasing",
          "Defending",
          "Chasing",
          "Chasing",
          "Chasing",
          "Defending",
          "Chasing",
          "Defending",
          "Chasing",
          "Defending",
          "Defending",
          "Chasing",
          "Defending",
          "Defending",
          "Defending",
          "Chasing",
          "Defending",
          "Chasing",
          "Defending",
          "Chasing",
          "Chasing",
          "Chasing",
          "Tied",
          "Chasing",
          "Chasing",
          "Chasing",
          "Chasing",
          "Chasing",
          "Chasing",
          "Chasing",
          "Chasing",
          "Defending",
          "Defending",
          "Defending",
          "Chasing",
          "Defending",
          "Defending",
          "Chasing",
          "Chasing",
          "Chasing",
          "Tied",
          "Defending",
          "Chasing",
          "Defending",
          "Defending",
          "Chasing",
          "Defending",
          "Defending",
          "Defending",
          "Defending",
          "Chasing",
          "Chasing",
          "Chasing",
          "Defending",
          "Defending",
          "Defending",
          "Chasing",
          "Chasing",
          "Defending",
          "Chasing",
          "Chasing",
          "Defending",
          "Chasing",
          "Defending",
          "Chasing",
          "Defending",
          "Defending",
          "Chasing",
          "Defending",
          "Chasing",
          "Chasing",
          "Chasing",
          "Chasing",
          "Chasing",
          "Chasing",
          "Chasing",
          "Chasing",
          "Defending",
          "Chasing",
          "Chasing",
          "Defending",
          "Defending",
          "Chasing",
          "Chasing",
          "Defending",
          "Chasing",
          "Chasing",
          "Defending",
          "Chasing",
          "Chasing",
          "Defending",
          "Chasing",
          "Chasing",
          "Chasing",
          "Defending",
          "Defending",
          "Defending",
          "Defending",
          "Chasing",
          "Chasing",
          "Chasing",
          "Chasing",
          "Defending",
          "Chasing",
          "Chasing",
          "Chasing",
          "Chasing",
          "Defending",
          "Chasing",
          "Chasing",
          "Chasing",
          "Defending",
          "Defending",
          "Chasing",
          "Chasing",
          "Chasing",
          "Defending",
          "Chasing",
          "Chasing",
          "Chasing",
          "Defending",
          "Chasing",
          "Chasing",
          "Tied",
          "Chasing",
          "Defending",
          "Defending",
          "Defending",
          "Defending",
          "Defending",
          "Chasing",
          "Defending",
          "Defending",
          "Defending",
          "Chasing",
          "Chasing",
          "Defending",
          "Defending",
          "Defending",
          "Chasing",
          "Chasing",
          "Chasing",
          "Defending",
          "Defending",
          "Defending",
          "Chasing",
          "Chasing",
          "Defending",
          "Chasing",
          "Chasing",
          "Defending",
          "Chasing",
          "Defending",
          "Chasing",
          "Chasing",
          "Defending",
          "Defending",
          "Defending",
          "Chasing",
          "Chasing",
          "Chasing",
          "Defending",
          "Chasing",
          "Chasing",
          "Chasing",
          "Defending",
          "Defending",
          "Chasing",
          "Chasing",
          "Defending",
          "Defending",
          "Chasing",
          "Chasing",
          "Defending",
          "Tied",
          "Defending",
          "Defending",
          "Defending",
          "Tied",
          "Chasing",
          "Chasing",
          "Defending",
          "Chasing",
          "Defending",
          "Defending",
          "Defending",
          "Defending",
          "Chasing",
          "Defending",
          "Defending",
          "Chasing",
          "Defending",
          "Chasing",
          "Chasing",
          "Defending",
          "Defending",
          "Tied",
          "Defending",
          "Defending",
          "Chasing",
          "Chasing",
          "Defending",
          "Defending",
          "Chasing",
          "Chasing",
          "Tied",
          "Defending",
          "Chasing",
          "Chasing",
          "Defending",
          "Chasing",
          "Defending",
          "Defending",
          "Chasing",
          "Chasing",
          "Defending",
          "Defending",
          "Chasing",
          "Chasing",
          "Defending",
          "Chasing",
          "Defending",
          "Chasing",
          "Defending",
          "Defending",
          "Chasing",
          "Defending",
          "Defending",
          "Chasing",
          "Chasing",
          "Defending",
          "Chasing",
          "Chasing",
          "Defending",
          "Chasing",
          "Defending",
          "Chasing",
          "Defending",
          "Chasing",
          "Chasing",
          "Chasing",
          "Defending",
          "Chasing",
          "Chasing",
          "Chasing",
          "Chasing",
          "Chasing",
          "Chasing",
          "Defending",
          "Chasing",
          "Defending",
          "Defending",
          "Chasing",
          "Defending",
          "Chasing",
          "Chasing",
          "Defending",
          "Chasing",
          "Defending",
          "Chasing",
          "Defending",
          "Chasing",
          "Chasing",
          "Chasing",
          "Chasing",
          "Defending",
          "Defending",
          "Chasing",
          "Chasing",
          "Defending",
          "Chasing",
          "Defending",
          "Tied",
          "Chasing",
          "Defending",
          "Chasing",
          "Chasing",
          "Tied",
          "Chasing",
          "Chasing",
          "Defending",
          "Chasing",
          "Defending",
          "Defending",
          "Defending",
          "Defending",
          "Chasing",
          "Chasing",
          "Chasing",
          "Defending",
          "Chasing",
          "Chasing",
          "Chasing",
          "Chasing",
          "Defending",
          "Chasing",
          "Defending",
          "Chasing",
          "Chasing",
          "Defending",
          "Defending",
          "Defending",
          "Chasing",
          "Chasing",
          "Chasing",
          "Chasing",
          "Defending",
          "Defending",
          "Defending",
          "Defending",
          "Defending",
          "Defending",
          "Chasing",
          "Defending",
          "Chasing",
          "Chasing",
          "Defending",
          "Defending",
          "Defending",
          "Chasing",
          "Defending",
          "Defending",
          "Chasing",
          "Chasing",
          "Defending",
          "Tied",
          "Defending",
          "Chasing",
          "Chasing",
          "Chasing",
          "Defending",
          "Defending",
          "Defending",
          "Chasing",
          "Chasing",
          "Chasing",
          "Defending",
          "Chasing",
          "Chasing",
          "Defending",
          "Chasing",
          "Defending",
          "Chasing",
          "Defending",
          "Defending",
          "Defending",
          "Chasing",
          "Chasing",
          "Defending",
          "Chasing",
          "Chasing",
          "Chasing",
          "Tied",
          "Defending",
          "Defending",
          "Defending",
          "Chasing",
          "Chasing",
          "Chasing",
          "Defending",
          "Tied",
          "Defending",
          "Defending",
          "Chasing",
          "Chasing",
          "Tied",
          "Defending",
          "Chasing",
          "Defending",
          "Chasing",
          "Chasing",
          "Defending",
          "Chasing",
          "Chasing",
          "Defending",
          "Defending",
          "Defending",
          "Defending",
          "Chasing",
          "Chasing",
          "Chasing",
          "Defending",
          "Tied",
          "Defending",
          "Defending",
          "Chasing",
          "Chasing",
          "Chasing",
          "Chasing",
          "Chasing",
          "Chasing",
          "Defending",
          "Chasing",
          "Chasing",
          "Tied",
          "Chasing",
          "Defending",
          "Chasing",
          "Defending",
          "Chasing",
          "Chasing",
          "Defending",
          "Defending",
          "Defending",
          "Defending",
          "Chasing",
          "Defending",
          "Chasing",
          "Chasing",
          "Chasing",
          "Tied",
          "Defending",
          "Defending",
          "Chasing",
          "Chasing",
          "Chasing",
          "Chasing",
          "Defending",
          "Defending",
          "Chasing",
          "Defending",
          "Chasing",
          "Chasing",
          "Defending",
          "Chasing",
          "Chasing",
          "Chasing",
          "Chasing",
          "Chasing",
          "Defending",
          "Chasing",
          "Chasing",
          "Chasing",
          "Defending",
          "Chasing",
          "Chasing",
          "Chasing",
          "Tied",
          "Chasing",
          "Defending",
          "Chasing",
          "Chasing",
          "Defending",
          "Tied",
          "Chasing",
          "Defending",
          "Chasing",
          "Defending",
          "Defending",
          "Defending",
          "Chasing",
          "Defending",
          "Chasing",
          "Defending",
          "Chasing",
          "Tied",
          "Chasing",
          "Tied",
          "Chasing",
          "Defending",
          "Defending",
          "Chasing",
          "Chasing",
          "Defending",
          "Chasing",
          "Defending",
          "Chasing",
          "Chasing",
          "Defending",
          "Defending",
          "Defending",
          "Defending",
          "Tied",
          "Defending",
          "Chasing",
          "Defending",
          "Defending",
          "Tied",
          "Defending",
          "Chasing",
          "Defending",
          "Chasing",
          "Chasing",
          "Defending",
          "Defending",
          "Chasing",
          "Chasing",
          "Defending",
          "Chasing",
          "Chasing",
          "Chasing",
          "Tied",
          "Defending",
          "Chasing",
          "Defending",
          "Chasing",
          "Defending",
          "Chasing",
          "Defending",
          "Chasing",
          "Tied",
          "Chasing",
          "Defending",
          "Chasing",
          "Chasing",
          "Defending",
          "Chasing",
          "Chasing",
          "Tied",
          "Defending",
          "Chasing",
          "Defending",
          "Defending",
          "Defending",
          "Defending",
          "Chasing",
          "Defending",
          "Defending",
          "Tied",
          "Defending",
          "Chasing",
          "Defending",
          "Chasing",
          "Chasing",
          "Defending",
          "Chasing",
          "Defending",
          "Chasing",
          "Defending",
          "Defending",
          "Tied",
          "Defending",
          "Chasing",
          "Defending",
          "Chasing",
          "Chasing",
          "Chasing",
          "Defending",
          "Defending",
          "Defending",
          "Chasing",
          "Chasing",
          "Defending",
          "Chasing",
          "Defending",
          "Defending",
          "Chasing",
          "Defending",
          "Tied",
          "Defending",
          "Chasing",
          "Chasing",
          "Chasing",
          "Defending",
          "Defending",
          "Defending",
          "Defending",
          "Chasing",
          "Chasing",
          "Defending",
          "Chasing",
          "Defending",
          "Chasing",
          "Defending",
          "Defending",
          "Chasing",
          "Chasing",
          "Defending",
          "Chasing",
          "Chasing",
          "Defending",
          "Chasing",
          "Chasing",
          "Chasing",
          "Defending",
          "Chasing",
          "Defending",
          "Defending",
          "Defending",
          "Defending",
          "Chasing",
          "Defending",
          "Chasing",
          "Chasing",
          "Defending",
          "Tied",
          "Defending",
          "Defending",
          "Defending",
          "Chasing",
          "Chasing",
          "Chasing",
          "Defending",
          "Defending",
          "Defending",
          "Chasing",
          "Chasing",
          "Defending",
          "Chasing",
          "Defending",
          "Defending",
          "Defending",
          "Chasing",
          "Defending",
          "Defending",
          "Chasing",
          "Chasing",
          "Chasing",
          "Defending",
          "Chasing",
          "Defending",
          "Defending",
          "Chasing",
          "Chasing",
          "Chasing",
          "Chasing",
          "Defending",
          "Defending",
          "Chasing",
          "Defending",
          "Defending",
          "Defending",
          "Chasing",
          "Defending",
          "Tied",
          "Defending",
          "Chasing",
          "Chasing",
          "Chasing",
          "Chasing",
          "Defending",
          "Defending",
          "Chasing",
          "Chasing",
          "Defending",
          "Chasing",
          "Defending",
          "Chasing",
          "Defending",
          "Defending",
          "Defending",
          "Defending",
          "Chasing",
          "Chasing",
          "Chasing",
          "Chasing",
          "Chasing",
          "Chasing",
          "Defending",
          "Chasing",
          "Chasing",
          "Chasing",
          "Chasing",
          "Defending",
          "Defending",
          "Defending",
          "Defending",
          "Defending",
          "Chasing",
          "Chasing",
          "Chasing",
          "Chasing",
          "Defending",
          "Chasing",
          "Chasing",
          "Defending",
          "Tied",
          "Defending",
          "Chasing",
          "Defending",
          "Tied",
          "Chasing",
          "Chasing",
          "Chasing",
          "Defending",
          "Chasing",
          "Defending",
          "Chasing",
          "Tied",
          "Defending",
          "Defending",
          "Chasing",
          "Chasing",
          "Defending",
          "Defending",
          "Defending",
          "Defending",
          "Defending",
          "Defending",
          "Chasing",
          "Chasing",
          "Defending",
          "Chasing",
          "Chasing",
          "Defending",
          "Chasing",
          "Defending",
          "Defending",
          "Defending",
          "Chasing",
          "Chasing",
          "Defending",
          "Defending",
          "Chasing",
          "Chasing",
          "Chasing",
          "Defending",
          "Defending",
          "Defending",
          "Defending",
          "Chasing",
          "Chasing",
          "Defending",
          "Defending",
          "Chasing",
          "Defending",
          "Defending",
          "Chasing",
          "Defending",
          "Defending",
          "Chasing",
          "Chasing",
          "Chasing",
          "Chasing",
          "Chasing",
          "Chasing",
          "Chasing",
          "Defending",
          "Chasing",
          "Defending",
          "Chasing",
          "Defending",
          "Chasing",
          "Defending",
          "Chasing",
          "Chasing",
          "Tied",
          "Defending",
          "Chasing",
          "Tied",
          "Defending",
          "Defending",
          "Chasing",
          "Chasing",
          "Defending",
          "Chasing",
          "Chasing",
          "Defending",
          "Defending",
          "Chasing",
          "Chasing",
          "Defending",
          "Chasing",
          "Defending",
          "Chasing",
          "Chasing",
          "Defending",
          "Chasing",
          "Defending",
          "Chasing",
          "Chasing",
          "Defending",
          "Defending",
          "Chasing",
          "Defending",
          "Defending",
          "Defending",
          "Defending",
          "Defending",
          "Chasing",
          "Chasing",
          "Defending",
          "Defending",
          "Chasing",
          "Chasing",
          "Defending",
          "Chasing",
          "Chasing",
          "Defending",
          "Chasing",
          "Defending",
          "Defending",
          "Chasing",
          "Chasing",
          "Defending",
          "Defending",
          "Defending",
          "Chasing",
          "Chasing",
          "Defending",
          "Defending",
          "Defending",
          "Defending",
          "Chasing",
          "Defending",
          "Defending",
          "Chasing",
          "Defending",
          "Defending",
          "Defending",
          "Chasing",
          "Chasing",
          "Chasing",
          "Chasing",
          "Tied",
          "Defending",
          "Defending",
          "Defending",
          "Chasing",
          "Chasing",
          "Chasing",
          "Chasing",
          "Defending",
          "Chasing",
          "Defending",
          "Defending",
          "Chasing",
          "Defending",
          "Defending",
          "Chasing",
          "Chasing",
          "Defending",
          "Chasing",
          "Chasing",
          "Chasing",
          "Chasing",
          "Chasing",
          "Defending",
          "Chasing",
          "Defending",
          "Chasing",
          "Chasing",
          "Chasing",
          "Defending",
          "Defending",
          "Defending",
          "Tied",
          "Tied",
          "Chasing",
          "Chasing",
          "Defending",
          "Tied",
          "Defending",
          "Chasing",
          "Defending",
          "Tied",
          "Defending",
          "Defending",
          "Chasing",
          "Defending",
          "Defending",
          "Defending",
          "Chasing",
          "Defending",
          "Chasing",
          "Defending",
          "Defending",
          "Chasing",
          "Chasing",
          "Defending",
          "Chasing",
          "Chasing",
          "Chasing",
          "Chasing",
          "Tied",
          "Defending",
          "Defending",
          "Defending",
          "Chasing",
          "Chasing",
          "Defending",
          "Chasing",
          "Defending",
          "Defending",
          "Defending",
          "Defending",
          "Chasing",
          "Defending",
          "Chasing",
          "Defending",
          "Chasing",
          "Defending",
          "Chasing",
          "Defending",
          "Chasing",
          "Defending",
          "Defending",
          "Defending",
          "Defending",
          "Chasing",
          "Chasing",
          "Defending",
          "Tied",
          "Tied",
          "Defending",
          "Defending",
          "Chasing",
          "Defending",
          "Defending",
          "Defending",
          "Defending",
          "Defending",
          "Chasing",
          "Defending",
          "Chasing",
          "Chasing",
          "Chasing",
          "Defending",
          "Defending",
          "Chasing",
          "Defending",
          "Chasing",
          "Defending",
          "Chasing",
          "Chasing",
          "Defending",
          "Defending",
          "Chasing",
          "Defending",
          "Defending",
          "Defending",
          "Defending",
          "Chasing",
          "Defending",
          "Defending",
          "Defending",
          "Chasing",
          "Defending",
          "Defending",
          "Chasing",
          "Defending",
          "Defending",
          "Chasing",
          "Chasing",
          "Chasing",
          "Defending",
          "Defending",
          "Defending",
          "Chasing",
          "Chasing",
          "Chasing",
          "Defending",
          "Tied",
          "Defending",
          "Defending",
          "Defending",
          "Defending",
          "Chasing",
          "Defending",
          "Chasing",
          "Chasing",
          "Defending",
          "Tied",
          "Defending",
          "Chasing",
          "Chasing",
          "Defending",
          "Chasing",
          "Defending",
          "Defending",
          "Chasing",
          "Chasing",
          "Tied",
          "Defending",
          "Defending",
          "Tied",
          "Defending",
          "Defending",
          "Chasing",
          "Chasing",
          "Defending",
          "Defending",
          "Chasing",
          "Chasing",
          "Chasing",
          "Chasing",
          "Tied",
          "Chasing",
          "Defending",
          "Chasing",
          "Defending",
          "Tied",
          "Defending",
          "Chasing",
          "Defending",
          "Chasing",
          "Defending",
          "Chasing",
          "Chasing",
          "Chasing",
          "Chasing",
          "Chasing",
          "Chasing",
          "Chasing",
          "Defending",
          "Chasing",
          "Defending",
          "Chasing",
          "Defending",
          "Tied",
          "Chasing",
          "Defending",
          "Defending",
          "Defending",
          "Chasing",
          "Chasing",
          "Defending",
          "Chasing",
          "Defending",
          "Chasing",
          "Defending",
          "Defending",
          "Chasing",
          "Chasing",
          "Chasing",
          "Defending",
          "Chasing",
          "Chasing",
          "Defending",
          "Chasing",
          "Chasing",
          "Defending",
          "Defending",
          "Defending",
          "Defending",
          "Chasing",
          "Chasing",
          "Defending",
          "Chasing",
          "Chasing",
          "Defending",
          "Defending",
          "Defending",
          "Chasing",
          "Chasing",
          "Defending",
          "Defending",
          "Chasing",
          "Chasing",
          "Chasing",
          "Chasing",
          "Defending",
          "Defending",
          "Defending",
          "Chasing",
          "Defending",
          "Defending",
          "Defending",
          "Chasing",
          "Chasing",
          "Defending",
          "Chasing",
          "Chasing",
          "Defending",
          "Defending",
          "Chasing",
          "Chasing",
          "Defending",
          "Defending",
          "Chasing",
          "Defending",
          "Chasing",
          "Defending",
          "Chasing",
          "Chasing",
          "Defending",
          "Chasing",
          "Chasing",
          "Defending",
          "Chasing",
          "Defending",
          "Chasing",
          "Chasing",
          "Defending",
          "Defending",
          "Chasing",
          "Defending",
          "Chasing",
          "Chasing",
          "Defending",
          "Defending",
          "Defending",
          "Tied",
          "Chasing",
          "Defending",
          "Defending",
          "Defending",
          "Defending",
          "Chasing",
          "Chasing",
          "Defending",
          "Defending",
          "Chasing",
          "Chasing",
          "Defending",
          "Chasing",
          "Defending",
          "Defending",
          "Chasing",
          "Chasing",
          "Chasing",
          "Defending",
          "Defending",
          "Chasing",
          "Chasing",
          "Chasing",
          "Defending",
          "Defending",
          "Defending",
          "Defending",
          "Defending",
          "Chasing",
          "Defending",
          "Chasing",
          "Defending",
          "Defending",
          "Defending",
          "Defending",
          "Defending",
          "Chasing",
          "Defending",
          "Chasing",
          "Defending",
          "Chasing",
          "Defending",
          "Defending",
          "Chasing",
          "Defending",
          "Chasing",
          "Chasing",
          "Chasing",
          "Defending",
          "Tied",
          "Defending",
          "Chasing",
          "Chasing",
          "Defending",
          "Chasing",
          "Tied",
          "Defending",
          "Chasing",
          "Defending",
          "Chasing",
          "Defending",
          "Defending",
          "Tied",
          "Chasing",
          "Chasing",
          "Defending",
          "Defending",
          "Chasing",
          "Chasing",
          "Defending",
          "Defending",
          "Chasing",
          "Defending",
          "Tied",
          "Chasing",
          "Chasing",
          "Chasing",
          "Defending",
          "Defending",
          "Defending",
          "Defending",
          "Chasing",
          "Chasing",
          "Chasing",
          "Chasing",
          "Chasing",
          "Chasing",
          "Defending",
          "Defending",
          "Defending",
          "Chasing",
          "Chasing",
          "Chasing",
          "Chasing",
          "Chasing",
          "Defending",
          "Chasing",
          "Chasing",
          "Defending",
          "Chasing",
          "Defending",
          "Tied",
          "Defending",
          "Chasing",
          "Tied",
          "Chasing",
          "Chasing",
          "Chasing",
          "Chasing",
          "Defending",
          "Defending",
          "Defending",
          "Defending",
          "Chasing",
          "Chasing",
          "Defending",
          "Defending",
          "Chasing",
          "Defending",
          "Chasing",
          "Chasing",
          "Defending",
          "Defending",
          "Defending",
          "Chasing",
          "Defending",
          "Defending",
          "Chasing",
          "Defending",
          "Chasing",
          "Chasing",
          "Defending",
          "Chasing",
          "Tied",
          "Defending",
          "Chasing",
          "Defending",
          "Chasing",
          "Chasing",
          "Chasing",
          "Chasing",
          "Chasing",
          "Defending",
          "Defending",
          "Defending",
          "Defending",
          "Defending",
          "Chasing",
          "Chasing",
          "Chasing",
          "Defending",
          "Defending",
          "Defending",
          "Chasing",
          "Chasing",
          "Defending",
          "Defending",
          "Chasing",
          "Defending",
          "Tied",
          "Defending",
          "Chasing",
          "Defending",
          "Chasing",
          "Defending",
          "Chasing",
          "Defending",
          "Chasing",
          "Chasing",
          "Defending",
          "Chasing",
          "Defending",
          "Defending",
          "Defending",
          "Defending",
          "Defending",
          "Defending",
          "Chasing",
          "Defending",
          "Chasing",
          "Chasing",
          "Defending",
          "Defending",
          "Defending",
          "Chasing",
          "Defending",
          "Defending",
          "Defending",
          "Defending",
          "Defending",
          "Chasing",
          "Defending",
          "Chasing",
          "Defending",
          "Chasing",
          "Tied",
          "Defending",
          "Chasing",
          "Defending",
          "Tied",
          "Defending",
          "Chasing",
          "Chasing",
          "Chasing",
          "Chasing",
          "Defending",
          "Defending",
          "Chasing",
          "Defending",
          "Chasing",
          "Defending",
          "Defending",
          "Chasing",
          "Defending",
          "Defending",
          "Chasing",
          "Chasing",
          "Defending",
          "Chasing",
          "Chasing",
          "Defending",
          "Defending",
          "Chasing",
          "Chasing",
          "Chasing",
          "Defending",
          "Chasing",
          "Chasing",
          "Defending",
          "Chasing",
          "Defending",
          "Chasing",
          "Chasing",
          "Chasing",
          "Chasing",
          "Defending",
          "Chasing",
          "Chasing",
          "Chasing",
          "Defending",
          "Chasing",
          "Tied",
          "Defending",
          "Defending",
          "Chasing",
          "Chasing",
          "Chasing",
          "Defending",
          "Chasing",
          "Chasing",
          "Defending",
          "Defending",
          "Defending",
          "Defending",
          "Defending",
          "Chasing",
          "Defending",
          "Chasing",
          "Defending",
          "Chasing",
          "Chasing",
          "Chasing",
          "Defending",
          "Defending",
          "Chasing",
          "Defending",
          "Chasing",
          "Tied",
          "Defending",
          "Defending",
          "Defending",
          "Chasing",
          "Defending",
          "Chasing",
          "Defending",
          "Chasing",
          "Chasing",
          "Defending",
          "Defending",
          "Chasing",
          "Chasing",
          "Chasing",
          "Chasing",
          "Chasing",
          "Defending",
          "Defending",
          "Chasing",
          "Defending",
          "Chasing",
          "Defending",
          "Defending",
          "Defending",
          "Chasing",
          "Defending",
          "Defending",
          "Defending",
          "Defending",
          "Chasing",
          "Chasing",
          "Chasing",
          "Chasing",
          "Tied",
          "Chasing",
          "Defending",
          "Tied",
          "Defending",
          "Chasing",
          "Defending",
          "Defending",
          "Chasing",
          "Chasing",
          "Chasing",
          "Chasing",
          "Defending",
          "Chasing",
          "Chasing",
          "Chasing",
          "Defending",
          "Defending",
          "Chasing",
          "Chasing",
          "Defending",
          "Defending",
          "Defending",
          "Tied",
          "Defending",
          "Chasing",
          "Chasing",
          "Chasing",
          "Chasing",
          "Chasing",
          "Chasing",
          "Defending",
          "Chasing",
          "Defending",
          "Defending",
          "Chasing",
          "Chasing",
          "Tied",
          "Defending",
          "Tied",
          "Defending",
          "Defending",
          "Chasing",
          "Chasing",
          "Chasing",
          "Defending",
          "Defending",
          "Defending",
          "Chasing",
          "Defending",
          "Defending",
          "Defending",
          "Defending",
          "Chasing",
          "Chasing",
          "Chasing",
          "Tied",
          "Defending",
          "Defending",
          "Chasing",
          "Defending",
          "Chasing",
          "Defending",
          "Defending",
          "Chasing",
          "Defending",
          "Chasing",
          "Defending",
          "Chasing",
          "Chasing",
          "Chasing",
          "Defending",
          "Defending",
          "Chasing",
          "Chasing",
          "Defending",
          "Chasing",
          "Chasing",
          "Defending",
          "Chasing",
          "Chasing",
          "Defending",
          "Chasing",
          "Defending",
          "Chasing",
          "Defending",
          "Defending",
          "Defending",
          "Chasing",
          "Defending",
          "Chasing",
          "Defending",
          "Defending",
          "Defending",
          "Chasing",
          "Chasing",
          "Chasing",
          "Chasing",
          "Chasing",
          "Defending",
          "Defending",
          "Chasing",
          "Chasing",
          "Chasing",
          "Defending",
          "Chasing",
          "Defending",
          "Defending",
          "Tied",
          "Defending",
          "Defending",
          "Chasing",
          "Chasing",
          "Defending",
          "Defending",
          "Defending",
          "Chasing",
          "Chasing",
          "Defending",
          "Chasing",
          "Chasing",
          "Chasing",
          "Defending",
          "Chasing",
          "Defending",
          "Chasing",
          "Chasing",
          "Chasing",
          "Chasing",
          "Chasing",
          "Defending",
          "Defending",
          "Defending",
          "Chasing",
          "Chasing",
          "Chasing",
          "Defending",
          "Defending",
          "Defending",
          "Tied",
          "Chasing",
          "Defending",
          "Chasing",
          "Chasing",
          "Chasing",
          "Defending",
          "Defending",
          "Chasing",
          "Chasing",
          "Defending",
          "Defending",
          "Chasing",
          "Chasing",
          "Chasing",
          "Chasing",
          "Defending",
          "Chasing",
          "Defending",
          "Chasing",
          "Defending",
          "Chasing",
          "Chasing",
          "Chasing",
          "Chasing",
          "Defending",
          "Tied",
          "Defending",
          "Defending",
          "Defending",
          "Defending",
          "Defending",
          "Defending",
          "Defending",
          "Chasing",
          "Chasing",
          "Defending",
          "Chasing",
          "Chasing",
          "Chasing",
          "Defending",
          "Chasing",
          "Defending",
          "Defending",
          "Chasing",
          "Chasing",
          "Chasing",
          "Defending",
          "Defending",
          "Chasing",
          "Tied",
          "Tied",
          "Tied",
          "Chasing",
          "Chasing",
          "Tied",
          "Chasing",
          "Chasing",
          "Chasing",
          "Defending",
          "Defending",
          "Chasing",
          "Defending",
          "Chasing",
          "Defending",
          "Defending",
          "Chasing",
          "Chasing",
          "Defending",
          "Chasing",
          "Defending",
          "Defending",
          "Chasing",
          "Tied",
          "Defending",
          "Defending",
          "Chasing",
          "Defending",
          "Chasing",
          "Chasing",
          "Chasing",
          "Chasing",
          "Defending",
          "Chasing",
          "Chasing",
          "Chasing",
          "Chasing",
          "Defending",
          "Chasing",
          "Defending",
          "Chasing",
          "Defending",
          "Chasing",
          "Defending",
          "Defending",
          "Defending",
          "Defending",
          "Defending",
          "Chasing",
          "Chasing",
          "Defending",
          "Chasing",
          "Defending",
          "Defending",
          "Chasing",
          "Tied",
          "Chasing",
          "Chasing",
          "Defending",
          "Defending",
          "Chasing",
          "Defending",
          "Chasing",
          "Defending",
          "Defending",
          "Defending",
          "Defending",
          "Defending",
          "Chasing",
          "Chasing",
          "Chasing",
          "Chasing",
          "Chasing",
          "Defending",
          "Defending",
          "Defending",
          "Defending",
          "Defending",
          "Defending",
          "Defending",
          "Defending",
          "Defending",
          "Chasing",
          "Defending",
          "Chasing",
          "Chasing",
          "Defending",
          "Defending",
          "Defending",
          "Tied",
          "Chasing",
          "Defending"
         ],
         "xaxis": "x",
         "yaxis": "y"
        }
       ],
       "layout": {
        "barmode": "relative",
        "legend": {
         "tracegroupgap": 0
        },
        "margin": {
         "t": 60
        },
        "template": {
         "data": {
          "bar": [
           {
            "error_x": {
             "color": "#2a3f5f"
            },
            "error_y": {
             "color": "#2a3f5f"
            },
            "marker": {
             "line": {
              "color": "#E5ECF6",
              "width": 0.5
             },
             "pattern": {
              "fillmode": "overlay",
              "size": 10,
              "solidity": 0.2
             }
            },
            "type": "bar"
           }
          ],
          "barpolar": [
           {
            "marker": {
             "line": {
              "color": "#E5ECF6",
              "width": 0.5
             },
             "pattern": {
              "fillmode": "overlay",
              "size": 10,
              "solidity": 0.2
             }
            },
            "type": "barpolar"
           }
          ],
          "carpet": [
           {
            "aaxis": {
             "endlinecolor": "#2a3f5f",
             "gridcolor": "white",
             "linecolor": "white",
             "minorgridcolor": "white",
             "startlinecolor": "#2a3f5f"
            },
            "baxis": {
             "endlinecolor": "#2a3f5f",
             "gridcolor": "white",
             "linecolor": "white",
             "minorgridcolor": "white",
             "startlinecolor": "#2a3f5f"
            },
            "type": "carpet"
           }
          ],
          "choropleth": [
           {
            "colorbar": {
             "outlinewidth": 0,
             "ticks": ""
            },
            "type": "choropleth"
           }
          ],
          "contour": [
           {
            "colorbar": {
             "outlinewidth": 0,
             "ticks": ""
            },
            "colorscale": [
             [
              0,
              "#0d0887"
             ],
             [
              0.1111111111111111,
              "#46039f"
             ],
             [
              0.2222222222222222,
              "#7201a8"
             ],
             [
              0.3333333333333333,
              "#9c179e"
             ],
             [
              0.4444444444444444,
              "#bd3786"
             ],
             [
              0.5555555555555556,
              "#d8576b"
             ],
             [
              0.6666666666666666,
              "#ed7953"
             ],
             [
              0.7777777777777778,
              "#fb9f3a"
             ],
             [
              0.8888888888888888,
              "#fdca26"
             ],
             [
              1,
              "#f0f921"
             ]
            ],
            "type": "contour"
           }
          ],
          "contourcarpet": [
           {
            "colorbar": {
             "outlinewidth": 0,
             "ticks": ""
            },
            "type": "contourcarpet"
           }
          ],
          "heatmap": [
           {
            "colorbar": {
             "outlinewidth": 0,
             "ticks": ""
            },
            "colorscale": [
             [
              0,
              "#0d0887"
             ],
             [
              0.1111111111111111,
              "#46039f"
             ],
             [
              0.2222222222222222,
              "#7201a8"
             ],
             [
              0.3333333333333333,
              "#9c179e"
             ],
             [
              0.4444444444444444,
              "#bd3786"
             ],
             [
              0.5555555555555556,
              "#d8576b"
             ],
             [
              0.6666666666666666,
              "#ed7953"
             ],
             [
              0.7777777777777778,
              "#fb9f3a"
             ],
             [
              0.8888888888888888,
              "#fdca26"
             ],
             [
              1,
              "#f0f921"
             ]
            ],
            "type": "heatmap"
           }
          ],
          "heatmapgl": [
           {
            "colorbar": {
             "outlinewidth": 0,
             "ticks": ""
            },
            "colorscale": [
             [
              0,
              "#0d0887"
             ],
             [
              0.1111111111111111,
              "#46039f"
             ],
             [
              0.2222222222222222,
              "#7201a8"
             ],
             [
              0.3333333333333333,
              "#9c179e"
             ],
             [
              0.4444444444444444,
              "#bd3786"
             ],
             [
              0.5555555555555556,
              "#d8576b"
             ],
             [
              0.6666666666666666,
              "#ed7953"
             ],
             [
              0.7777777777777778,
              "#fb9f3a"
             ],
             [
              0.8888888888888888,
              "#fdca26"
             ],
             [
              1,
              "#f0f921"
             ]
            ],
            "type": "heatmapgl"
           }
          ],
          "histogram": [
           {
            "marker": {
             "pattern": {
              "fillmode": "overlay",
              "size": 10,
              "solidity": 0.2
             }
            },
            "type": "histogram"
           }
          ],
          "histogram2d": [
           {
            "colorbar": {
             "outlinewidth": 0,
             "ticks": ""
            },
            "colorscale": [
             [
              0,
              "#0d0887"
             ],
             [
              0.1111111111111111,
              "#46039f"
             ],
             [
              0.2222222222222222,
              "#7201a8"
             ],
             [
              0.3333333333333333,
              "#9c179e"
             ],
             [
              0.4444444444444444,
              "#bd3786"
             ],
             [
              0.5555555555555556,
              "#d8576b"
             ],
             [
              0.6666666666666666,
              "#ed7953"
             ],
             [
              0.7777777777777778,
              "#fb9f3a"
             ],
             [
              0.8888888888888888,
              "#fdca26"
             ],
             [
              1,
              "#f0f921"
             ]
            ],
            "type": "histogram2d"
           }
          ],
          "histogram2dcontour": [
           {
            "colorbar": {
             "outlinewidth": 0,
             "ticks": ""
            },
            "colorscale": [
             [
              0,
              "#0d0887"
             ],
             [
              0.1111111111111111,
              "#46039f"
             ],
             [
              0.2222222222222222,
              "#7201a8"
             ],
             [
              0.3333333333333333,
              "#9c179e"
             ],
             [
              0.4444444444444444,
              "#bd3786"
             ],
             [
              0.5555555555555556,
              "#d8576b"
             ],
             [
              0.6666666666666666,
              "#ed7953"
             ],
             [
              0.7777777777777778,
              "#fb9f3a"
             ],
             [
              0.8888888888888888,
              "#fdca26"
             ],
             [
              1,
              "#f0f921"
             ]
            ],
            "type": "histogram2dcontour"
           }
          ],
          "mesh3d": [
           {
            "colorbar": {
             "outlinewidth": 0,
             "ticks": ""
            },
            "type": "mesh3d"
           }
          ],
          "parcoords": [
           {
            "line": {
             "colorbar": {
              "outlinewidth": 0,
              "ticks": ""
             }
            },
            "type": "parcoords"
           }
          ],
          "pie": [
           {
            "automargin": true,
            "type": "pie"
           }
          ],
          "scatter": [
           {
            "fillpattern": {
             "fillmode": "overlay",
             "size": 10,
             "solidity": 0.2
            },
            "type": "scatter"
           }
          ],
          "scatter3d": [
           {
            "line": {
             "colorbar": {
              "outlinewidth": 0,
              "ticks": ""
             }
            },
            "marker": {
             "colorbar": {
              "outlinewidth": 0,
              "ticks": ""
             }
            },
            "type": "scatter3d"
           }
          ],
          "scattercarpet": [
           {
            "marker": {
             "colorbar": {
              "outlinewidth": 0,
              "ticks": ""
             }
            },
            "type": "scattercarpet"
           }
          ],
          "scattergeo": [
           {
            "marker": {
             "colorbar": {
              "outlinewidth": 0,
              "ticks": ""
             }
            },
            "type": "scattergeo"
           }
          ],
          "scattergl": [
           {
            "marker": {
             "colorbar": {
              "outlinewidth": 0,
              "ticks": ""
             }
            },
            "type": "scattergl"
           }
          ],
          "scattermapbox": [
           {
            "marker": {
             "colorbar": {
              "outlinewidth": 0,
              "ticks": ""
             }
            },
            "type": "scattermapbox"
           }
          ],
          "scatterpolar": [
           {
            "marker": {
             "colorbar": {
              "outlinewidth": 0,
              "ticks": ""
             }
            },
            "type": "scatterpolar"
           }
          ],
          "scatterpolargl": [
           {
            "marker": {
             "colorbar": {
              "outlinewidth": 0,
              "ticks": ""
             }
            },
            "type": "scatterpolargl"
           }
          ],
          "scatterternary": [
           {
            "marker": {
             "colorbar": {
              "outlinewidth": 0,
              "ticks": ""
             }
            },
            "type": "scatterternary"
           }
          ],
          "surface": [
           {
            "colorbar": {
             "outlinewidth": 0,
             "ticks": ""
            },
            "colorscale": [
             [
              0,
              "#0d0887"
             ],
             [
              0.1111111111111111,
              "#46039f"
             ],
             [
              0.2222222222222222,
              "#7201a8"
             ],
             [
              0.3333333333333333,
              "#9c179e"
             ],
             [
              0.4444444444444444,
              "#bd3786"
             ],
             [
              0.5555555555555556,
              "#d8576b"
             ],
             [
              0.6666666666666666,
              "#ed7953"
             ],
             [
              0.7777777777777778,
              "#fb9f3a"
             ],
             [
              0.8888888888888888,
              "#fdca26"
             ],
             [
              1,
              "#f0f921"
             ]
            ],
            "type": "surface"
           }
          ],
          "table": [
           {
            "cells": {
             "fill": {
              "color": "#EBF0F8"
             },
             "line": {
              "color": "white"
             }
            },
            "header": {
             "fill": {
              "color": "#C8D4E3"
             },
             "line": {
              "color": "white"
             }
            },
            "type": "table"
           }
          ]
         },
         "layout": {
          "annotationdefaults": {
           "arrowcolor": "#2a3f5f",
           "arrowhead": 0,
           "arrowwidth": 1
          },
          "autotypenumbers": "strict",
          "coloraxis": {
           "colorbar": {
            "outlinewidth": 0,
            "ticks": ""
           }
          },
          "colorscale": {
           "diverging": [
            [
             0,
             "#8e0152"
            ],
            [
             0.1,
             "#c51b7d"
            ],
            [
             0.2,
             "#de77ae"
            ],
            [
             0.3,
             "#f1b6da"
            ],
            [
             0.4,
             "#fde0ef"
            ],
            [
             0.5,
             "#f7f7f7"
            ],
            [
             0.6,
             "#e6f5d0"
            ],
            [
             0.7,
             "#b8e186"
            ],
            [
             0.8,
             "#7fbc41"
            ],
            [
             0.9,
             "#4d9221"
            ],
            [
             1,
             "#276419"
            ]
           ],
           "sequential": [
            [
             0,
             "#0d0887"
            ],
            [
             0.1111111111111111,
             "#46039f"
            ],
            [
             0.2222222222222222,
             "#7201a8"
            ],
            [
             0.3333333333333333,
             "#9c179e"
            ],
            [
             0.4444444444444444,
             "#bd3786"
            ],
            [
             0.5555555555555556,
             "#d8576b"
            ],
            [
             0.6666666666666666,
             "#ed7953"
            ],
            [
             0.7777777777777778,
             "#fb9f3a"
            ],
            [
             0.8888888888888888,
             "#fdca26"
            ],
            [
             1,
             "#f0f921"
            ]
           ],
           "sequentialminus": [
            [
             0,
             "#0d0887"
            ],
            [
             0.1111111111111111,
             "#46039f"
            ],
            [
             0.2222222222222222,
             "#7201a8"
            ],
            [
             0.3333333333333333,
             "#9c179e"
            ],
            [
             0.4444444444444444,
             "#bd3786"
            ],
            [
             0.5555555555555556,
             "#d8576b"
            ],
            [
             0.6666666666666666,
             "#ed7953"
            ],
            [
             0.7777777777777778,
             "#fb9f3a"
            ],
            [
             0.8888888888888888,
             "#fdca26"
            ],
            [
             1,
             "#f0f921"
            ]
           ]
          },
          "colorway": [
           "#636efa",
           "#EF553B",
           "#00cc96",
           "#ab63fa",
           "#FFA15A",
           "#19d3f3",
           "#FF6692",
           "#B6E880",
           "#FF97FF",
           "#FECB52"
          ],
          "font": {
           "color": "#2a3f5f"
          },
          "geo": {
           "bgcolor": "white",
           "lakecolor": "white",
           "landcolor": "#E5ECF6",
           "showlakes": true,
           "showland": true,
           "subunitcolor": "white"
          },
          "hoverlabel": {
           "align": "left"
          },
          "hovermode": "closest",
          "mapbox": {
           "style": "light"
          },
          "paper_bgcolor": "white",
          "plot_bgcolor": "#E5ECF6",
          "polar": {
           "angularaxis": {
            "gridcolor": "white",
            "linecolor": "white",
            "ticks": ""
           },
           "bgcolor": "#E5ECF6",
           "radialaxis": {
            "gridcolor": "white",
            "linecolor": "white",
            "ticks": ""
           }
          },
          "scene": {
           "xaxis": {
            "backgroundcolor": "#E5ECF6",
            "gridcolor": "white",
            "gridwidth": 2,
            "linecolor": "white",
            "showbackground": true,
            "ticks": "",
            "zerolinecolor": "white"
           },
           "yaxis": {
            "backgroundcolor": "#E5ECF6",
            "gridcolor": "white",
            "gridwidth": 2,
            "linecolor": "white",
            "showbackground": true,
            "ticks": "",
            "zerolinecolor": "white"
           },
           "zaxis": {
            "backgroundcolor": "#E5ECF6",
            "gridcolor": "white",
            "gridwidth": 2,
            "linecolor": "white",
            "showbackground": true,
            "ticks": "",
            "zerolinecolor": "white"
           }
          },
          "shapedefaults": {
           "line": {
            "color": "#2a3f5f"
           }
          },
          "ternary": {
           "aaxis": {
            "gridcolor": "white",
            "linecolor": "white",
            "ticks": ""
           },
           "baxis": {
            "gridcolor": "white",
            "linecolor": "white",
            "ticks": ""
           },
           "bgcolor": "#E5ECF6",
           "caxis": {
            "gridcolor": "white",
            "linecolor": "white",
            "ticks": ""
           }
          },
          "title": {
           "x": 0.05
          },
          "xaxis": {
           "automargin": true,
           "gridcolor": "white",
           "linecolor": "white",
           "ticks": "",
           "title": {
            "standoff": 15
           },
           "zerolinecolor": "white",
           "zerolinewidth": 2
          },
          "yaxis": {
           "automargin": true,
           "gridcolor": "white",
           "linecolor": "white",
           "ticks": "",
           "title": {
            "standoff": 15
           },
           "zerolinecolor": "white",
           "zerolinewidth": 2
          }
         }
        },
        "xaxis": {
         "anchor": "y",
         "domain": [
          0,
          1
         ],
         "title": {
          "text": "Wonby"
         }
        },
        "yaxis": {
         "anchor": "x",
         "domain": [
          0,
          1
         ],
         "title": {
          "text": "count"
         }
        }
       }
      }
     },
     "metadata": {},
     "output_type": "display_data"
    }
   ],
   "source": [
    "fig2=px.histogram(df,x='Wonby')\n",
    "fig2.show()"
   ]
  },
  {
   "cell_type": "code",
   "execution_count": 10,
   "id": "2e9fc486",
   "metadata": {
    "execution": {
     "iopub.execute_input": "2023-06-29T15:11:52.379886Z",
     "iopub.status.busy": "2023-06-29T15:11:52.379123Z",
     "iopub.status.idle": "2023-06-29T15:11:52.841135Z",
     "shell.execute_reply": "2023-06-29T15:11:52.840039Z"
    },
    "papermill": {
     "duration": 0.472208,
     "end_time": "2023-06-29T15:11:52.843756",
     "exception": false,
     "start_time": "2023-06-29T15:11:52.371548",
     "status": "completed"
    },
    "tags": []
   },
   "outputs": [
    {
     "data": {
      "text/plain": [
       "<AxesSubplot: xlabel='count', ylabel='Wonby'>"
      ]
     },
     "execution_count": 10,
     "metadata": {},
     "output_type": "execute_result"
    },
    {
     "data": {
      "image/png": "[encoded data removed]",
      "text/plain": [
       "<Figure size 640x480 with 1 Axes>"
      ]
     },
     "metadata": {},
     "output_type": "display_data"
    }
   ],
   "source": [
    "sns.set(style='darkgrid')\n",
    "sns.countplot(y='Wonby',data=df,order = df['Wonby'].value_counts().index)"
   ]
  },
  {
   "attachments": {},
   "cell_type": "markdown",
   "id": "03d8f478",
   "metadata": {
    "papermill": {
     "duration": 0.006449,
     "end_time": "2023-06-29T15:11:52.856743",
     "exception": false,
     "start_time": "2023-06-29T15:11:52.850294",
     "status": "completed"
    },
    "tags": []
   },
   "source": [
    "# Most Wins"
   ]
  },
  {
   "cell_type": "code",
   "execution_count": 11,
   "id": "c22dff30",
   "metadata": {
    "execution": {
     "iopub.execute_input": "2023-06-29T15:11:52.873754Z",
     "iopub.status.busy": "2023-06-29T15:11:52.873397Z",
     "iopub.status.idle": "2023-06-29T15:11:53.424128Z",
     "shell.execute_reply": "2023-06-29T15:11:53.422703Z"
    },
    "papermill": {
     "duration": 0.564342,
     "end_time": "2023-06-29T15:11:53.428031",
     "exception": false,
     "start_time": "2023-06-29T15:11:52.863689",
     "status": "completed"
    },
    "tags": []
   },
   "outputs": [
    {
     "data": {
      "text/plain": [
       "<AxesSubplot: xlabel='count', ylabel='Winner'>"
      ]
     },
     "execution_count": 11,
     "metadata": {},
     "output_type": "execute_result"
    },
    {
     "data": {
      "image/png": "[encoded data removed]",
      "text/plain": [
       "<Figure size 640x480 with 1 Axes>"
      ]
     },
     "metadata": {},
     "output_type": "display_data"
    }
   ],
   "source": [
    "sns.set(style='darkgrid')\n",
    "sns.countplot(y='Winner',data=df,order = df['Winner'].value_counts().index)"
   ]
  },
  {
   "attachments": {},
   "cell_type": "markdown",
   "id": "e749b015",
   "metadata": {
    "papermill": {
     "duration": 0.008346,
     "end_time": "2023-06-29T15:11:53.447983",
     "exception": false,
     "start_time": "2023-06-29T15:11:53.439637",
     "status": "completed"
    },
    "tags": []
   },
   "source": [
    "# Top Venues"
   ]
  },
  {
   "cell_type": "code",
   "execution_count": 12,
   "id": "e9a88f94",
   "metadata": {
    "execution": {
     "iopub.execute_input": "2023-06-29T15:11:53.466083Z",
     "iopub.status.busy": "2023-06-29T15:11:53.465694Z",
     "iopub.status.idle": "2023-06-29T15:11:53.532743Z",
     "shell.execute_reply": "2023-06-29T15:11:53.531242Z"
    },
    "papermill": {
     "duration": 0.079187,
     "end_time": "2023-06-29T15:11:53.535682",
     "exception": false,
     "start_time": "2023-06-29T15:11:53.456495",
     "status": "completed"
    },
    "tags": []
   },
   "outputs": [
    {
     "data": {
      "application/vnd.plotly.v1+json": {
       "config": {
        "plotlyServerURL": "https://plot.ly"
       },
       "data": [
        {
         "alignmentgroup": "True",
         "hovertemplate": "Grounds=%{x}<br>Ground=%{y}<extra></extra>",
         "legendgroup": "",
         "marker": {
          "color": "#636efa",
          "pattern": {
           "shape": ""
          }
         },
         "name": "",
         "offsetgroup": "",
         "orientation": "v",
         "showlegend": false,
         "textposition": "auto",
         "type": "bar",
         "x": [
          "Sharjah",
          "Harare",
          "Sydney",
          "Melbourne",
          "Colombo (RPS)",
          "Mirpur",
          "Adelaide",
          "Bulawayo",
          "Perth",
          "Auckland",
          "Brisbane",
          "The Oval",
          "Port of Spain",
          "Lord's",
          "Lahore",
          "Birmingham",
          "Christchurch",
          "Nairobi (Gym)",
          "Colombo (SSC)",
          "Wellington",
          "Centurion",
          "Dhaka",
          "Manchester",
          "Dambulla",
          "Karachi"
         ],
         "xaxis": "x",
         "y": [
          244,
          174,
          160,
          150,
          138,
          117,
          86,
          84,
          82,
          79,
          78,
          75,
          72,
          68,
          64,
          64,
          64,
          62,
          61,
          61,
          59,
          58,
          57,
          55,
          54
         ],
         "yaxis": "y"
        }
       ],
       "layout": {
        "barmode": "relative",
        "legend": {
         "tracegroupgap": 0
        },
        "margin": {
         "t": 60
        },
        "template": {
         "data": {
          "bar": [
           {
            "error_x": {
             "color": "#2a3f5f"
            },
            "error_y": {
             "color": "#2a3f5f"
            },
            "marker": {
             "line": {
              "color": "#E5ECF6",
              "width": 0.5
             },
             "pattern": {
              "fillmode": "overlay",
              "size": 10,
              "solidity": 0.2
             }
            },
            "type": "bar"
           }
          ],
          "barpolar": [
           {
            "marker": {
             "line": {
              "color": "#E5ECF6",
              "width": 0.5
             },
             "pattern": {
              "fillmode": "overlay",
              "size": 10,
              "solidity": 0.2
             }
            },
            "type": "barpolar"
           }
          ],
          "carpet": [
           {
            "aaxis": {
             "endlinecolor": "#2a3f5f",
             "gridcolor": "white",
             "linecolor": "white",
             "minorgridcolor": "white",
             "startlinecolor": "#2a3f5f"
            },
            "baxis": {
             "endlinecolor": "#2a3f5f",
             "gridcolor": "white",
             "linecolor": "white",
             "minorgridcolor": "white",
             "startlinecolor": "#2a3f5f"
            },
            "type": "carpet"
           }
          ],
          "choropleth": [
           {
            "colorbar": {
             "outlinewidth": 0,
             "ticks": ""
            },
            "type": "choropleth"
           }
          ],
          "contour": [
           {
            "colorbar": {
             "outlinewidth": 0,
             "ticks": ""
            },
            "colorscale": [
             [
              0,
              "#0d0887"
             ],
             [
              0.1111111111111111,
              "#46039f"
             ],
             [
              0.2222222222222222,
              "#7201a8"
             ],
             [
              0.3333333333333333,
              "#9c179e"
             ],
             [
              0.4444444444444444,
              "#bd3786"
             ],
             [
              0.5555555555555556,
              "#d8576b"
             ],
             [
              0.6666666666666666,
              "#ed7953"
             ],
             [
              0.7777777777777778,
              "#fb9f3a"
             ],
             [
              0.8888888888888888,
              "#fdca26"
             ],
             [
              1,
              "#f0f921"
             ]
            ],
            "type": "contour"
           }
          ],
          "contourcarpet": [
           {
            "colorbar": {
             "outlinewidth": 0,
             "ticks": ""
            },
            "type": "contourcarpet"
           }
          ],
          "heatmap": [
           {
            "colorbar": {
             "outlinewidth": 0,
             "ticks": ""
            },
            "colorscale": [
             [
              0,
              "#0d0887"
             ],
             [
              0.1111111111111111,
              "#46039f"
             ],
             [
              0.2222222222222222,
              "#7201a8"
             ],
             [
              0.3333333333333333,
              "#9c179e"
             ],
             [
              0.4444444444444444,
              "#bd3786"
             ],
             [
              0.5555555555555556,
              "#d8576b"
             ],
             [
              0.6666666666666666,
              "#ed7953"
             ],
             [
              0.7777777777777778,
              "#fb9f3a"
             ],
             [
              0.8888888888888888,
              "#fdca26"
             ],
             [
              1,
              "#f0f921"
             ]
            ],
            "type": "heatmap"
           }
          ],
          "heatmapgl": [
           {
            "colorbar": {
             "outlinewidth": 0,
             "ticks": ""
            },
            "colorscale": [
             [
              0,
              "#0d0887"
             ],
             [
              0.1111111111111111,
              "#46039f"
             ],
             [
              0.2222222222222222,
              "#7201a8"
             ],
             [
              0.3333333333333333,
              "#9c179e"
             ],
             [
              0.4444444444444444,
              "#bd3786"
             ],
             [
              0.5555555555555556,
              "#d8576b"
             ],
             [
              0.6666666666666666,
              "#ed7953"
             ],
             [
              0.7777777777777778,
              "#fb9f3a"
             ],
             [
              0.8888888888888888,
              "#fdca26"
             ],
             [
              1,
              "#f0f921"
             ]
            ],
            "type": "heatmapgl"
           }
          ],
          "histogram": [
           {
            "marker": {
             "pattern": {
              "fillmode": "overlay",
              "size": 10,
              "solidity": 0.2
             }
            },
            "type": "histogram"
           }
          ],
          "histogram2d": [
           {
            "colorbar": {
             "outlinewidth": 0,
             "ticks": ""
            },
            "colorscale": [
             [
              0,
              "#0d0887"
             ],
             [
              0.1111111111111111,
              "#46039f"
             ],
             [
              0.2222222222222222,
              "#7201a8"
             ],
             [
              0.3333333333333333,
              "#9c179e"
             ],
             [
              0.4444444444444444,
              "#bd3786"
             ],
             [
              0.5555555555555556,
              "#d8576b"
             ],
             [
              0.6666666666666666,
              "#ed7953"
             ],
             [
              0.7777777777777778,
              "#fb9f3a"
             ],
             [
              0.8888888888888888,
              "#fdca26"
             ],
             [
              1,
              "#f0f921"
             ]
            ],
            "type": "histogram2d"
           }
          ],
          "histogram2dcontour": [
           {
            "colorbar": {
             "outlinewidth": 0,
             "ticks": ""
            },
            "colorscale": [
             [
              0,
              "#0d0887"
             ],
             [
              0.1111111111111111,
              "#46039f"
             ],
             [
              0.2222222222222222,
              "#7201a8"
             ],
             [
              0.3333333333333333,
              "#9c179e"
             ],
             [
              0.4444444444444444,
              "#bd3786"
             ],
             [
              0.5555555555555556,
              "#d8576b"
             ],
             [
              0.6666666666666666,
              "#ed7953"
             ],
             [
              0.7777777777777778,
              "#fb9f3a"
             ],
             [
              0.8888888888888888,
              "#fdca26"
             ],
             [
              1,
              "#f0f921"
             ]
            ],
            "type": "histogram2dcontour"
           }
          ],
          "mesh3d": [
           {
            "colorbar": {
             "outlinewidth": 0,
             "ticks": ""
            },
            "type": "mesh3d"
           }
          ],
          "parcoords": [
           {
            "line": {
             "colorbar": {
              "outlinewidth": 0,
              "ticks": ""
             }
            },
            "type": "parcoords"
           }
          ],
          "pie": [
           {
            "automargin": true,
            "type": "pie"
           }
          ],
          "scatter": [
           {
            "fillpattern": {
             "fillmode": "overlay",
             "size": 10,
             "solidity": 0.2
            },
            "type": "scatter"
           }
          ],
          "scatter3d": [
           {
            "line": {
             "colorbar": {
              "outlinewidth": 0,
              "ticks": ""
             }
            },
            "marker": {
             "colorbar": {
              "outlinewidth": 0,
              "ticks": ""
             }
            },
            "type": "scatter3d"
           }
          ],
          "scattercarpet": [
           {
            "marker": {
             "colorbar": {
              "outlinewidth": 0,
              "ticks": ""
             }
            },
            "type": "scattercarpet"
           }
          ],
          "scattergeo": [
           {
            "marker": {
             "colorbar": {
              "outlinewidth": 0,
              "ticks": ""
             }
            },
            "type": "scattergeo"
           }
          ],
          "scattergl": [
           {
            "marker": {
             "colorbar": {
              "outlinewidth": 0,
              "ticks": ""
             }
            },
            "type": "scattergl"
           }
          ],
          "scattermapbox": [
           {
            "marker": {
             "colorbar": {
              "outlinewidth": 0,
              "ticks": ""
             }
            },
            "type": "scattermapbox"
           }
          ],
          "scatterpolar": [
           {
            "marker": {
             "colorbar": {
              "outlinewidth": 0,
              "ticks": ""
             }
            },
            "type": "scatterpolar"
           }
          ],
          "scatterpolargl": [
           {
            "marker": {
             "colorbar": {
              "outlinewidth": 0,
              "ticks": ""
             }
            },
            "type": "scatterpolargl"
           }
          ],
          "scatterternary": [
           {
            "marker": {
             "colorbar": {
              "outlinewidth": 0,
              "ticks": ""
             }
            },
            "type": "scatterternary"
           }
          ],
          "surface": [
           {
            "colorbar": {
             "outlinewidth": 0,
             "ticks": ""
            },
            "colorscale": [
             [
              0,
              "#0d0887"
             ],
             [
              0.1111111111111111,
              "#46039f"
             ],
             [
              0.2222222222222222,
              "#7201a8"
             ],
             [
              0.3333333333333333,
              "#9c179e"
             ],
             [
              0.4444444444444444,
              "#bd3786"
             ],
             [
              0.5555555555555556,
              "#d8576b"
             ],
             [
              0.6666666666666666,
              "#ed7953"
             ],
             [
              0.7777777777777778,
              "#fb9f3a"
             ],
             [
              0.8888888888888888,
              "#fdca26"
             ],
             [
              1,
              "#f0f921"
             ]
            ],
            "type": "surface"
           }
          ],
          "table": [
           {
            "cells": {
             "fill": {
              "color": "#EBF0F8"
             },
             "line": {
              "color": "white"
             }
            },
            "header": {
             "fill": {
              "color": "#C8D4E3"
             },
             "line": {
              "color": "white"
             }
            },
            "type": "table"
           }
          ]
         },
         "layout": {
          "annotationdefaults": {
           "arrowcolor": "#2a3f5f",
           "arrowhead": 0,
           "arrowwidth": 1
          },
          "autotypenumbers": "strict",
          "coloraxis": {
           "colorbar": {
            "outlinewidth": 0,
            "ticks": ""
           }
          },
          "colorscale": {
           "diverging": [
            [
             0,
             "#8e0152"
            ],
            [
             0.1,
             "#c51b7d"
            ],
            [
             0.2,
             "#de77ae"
            ],
            [
             0.3,
             "#f1b6da"
            ],
            [
             0.4,
             "#fde0ef"
            ],
            [
             0.5,
             "#f7f7f7"
            ],
            [
             0.6,
             "#e6f5d0"
            ],
            [
             0.7,
             "#b8e186"
            ],
            [
             0.8,
             "#7fbc41"
            ],
            [
             0.9,
             "#4d9221"
            ],
            [
             1,
             "#276419"
            ]
           ],
           "sequential": [
            [
             0,
             "#0d0887"
            ],
            [
             0.1111111111111111,
             "#46039f"
            ],
            [
             0.2222222222222222,
             "#7201a8"
            ],
            [
             0.3333333333333333,
             "#9c179e"
            ],
            [
             0.4444444444444444,
             "#bd3786"
            ],
            [
             0.5555555555555556,
             "#d8576b"
            ],
            [
             0.6666666666666666,
             "#ed7953"
            ],
            [
             0.7777777777777778,
             "#fb9f3a"
            ],
            [
             0.8888888888888888,
             "#fdca26"
            ],
            [
             1,
             "#f0f921"
            ]
           ],
           "sequentialminus": [
            [
             0,
             "#0d0887"
            ],
            [
             0.1111111111111111,
             "#46039f"
            ],
            [
             0.2222222222222222,
             "#7201a8"
            ],
            [
             0.3333333333333333,
             "#9c179e"
            ],
            [
             0.4444444444444444,
             "#bd3786"
            ],
            [
             0.5555555555555556,
             "#d8576b"
            ],
            [
             0.6666666666666666,
             "#ed7953"
            ],
            [
             0.7777777777777778,
             "#fb9f3a"
            ],
            [
             0.8888888888888888,
             "#fdca26"
            ],
            [
             1,
             "#f0f921"
            ]
           ]
          },
          "colorway": [
           "#636efa",
           "#EF553B",
           "#00cc96",
           "#ab63fa",
           "#FFA15A",
           "#19d3f3",
           "#FF6692",
           "#B6E880",
           "#FF97FF",
           "#FECB52"
          ],
          "font": {
           "color": "#2a3f5f"
          },
          "geo": {
           "bgcolor": "white",
           "lakecolor": "white",
           "landcolor": "#E5ECF6",
           "showlakes": true,
           "showland": true,
           "subunitcolor": "white"
          },
          "hoverlabel": {
           "align": "left"
          },
          "hovermode": "closest",
          "mapbox": {
           "style": "light"
          },
          "paper_bgcolor": "white",
          "plot_bgcolor": "#E5ECF6",
          "polar": {
           "angularaxis": {
            "gridcolor": "white",
            "linecolor": "white",
            "ticks": ""
           },
           "bgcolor": "#E5ECF6",
           "radialaxis": {
            "gridcolor": "white",
            "linecolor": "white",
            "ticks": ""
           }
          },
          "scene": {
           "xaxis": {
            "backgroundcolor": "#E5ECF6",
            "gridcolor": "white",
            "gridwidth": 2,
            "linecolor": "white",
            "showbackground": true,
            "ticks": "",
            "zerolinecolor": "white"
           },
           "yaxis": {
            "backgroundcolor": "#E5ECF6",
            "gridcolor": "white",
            "gridwidth": 2,
            "linecolor": "white",
            "showbackground": true,
            "ticks": "",
            "zerolinecolor": "white"
           },
           "zaxis": {
            "backgroundcolor": "#E5ECF6",
            "gridcolor": "white",
            "gridwidth": 2,
            "linecolor": "white",
            "showbackground": true,
            "ticks": "",
            "zerolinecolor": "white"
           }
          },
          "shapedefaults": {
           "line": {
            "color": "#2a3f5f"
           }
          },
          "ternary": {
           "aaxis": {
            "gridcolor": "white",
            "linecolor": "white",
            "ticks": ""
           },
           "baxis": {
            "gridcolor": "white",
            "linecolor": "white",
            "ticks": ""
           },
           "bgcolor": "#E5ECF6",
           "caxis": {
            "gridcolor": "white",
            "linecolor": "white",
            "ticks": ""
           }
          },
          "title": {
           "x": 0.05
          },
          "xaxis": {
           "automargin": true,
           "gridcolor": "white",
           "linecolor": "white",
           "ticks": "",
           "title": {
            "standoff": 15
           },
           "zerolinecolor": "white",
           "zerolinewidth": 2
          },
          "yaxis": {
           "automargin": true,
           "gridcolor": "white",
           "linecolor": "white",
           "ticks": "",
           "title": {
            "standoff": 15
           },
           "zerolinecolor": "white",
           "zerolinewidth": 2
          }
         }
        },
        "xaxis": {
         "anchor": "y",
         "domain": [
          0,
          1
         ],
         "title": {
          "text": "Grounds"
         }
        },
        "yaxis": {
         "anchor": "x",
         "domain": [
          0,
          1
         ],
         "title": {
          "text": "Ground"
         }
        }
       }
      }
     },
     "metadata": {},
     "output_type": "display_data"
    }
   ],
   "source": [
    "grounds=df['Ground'].value_counts()\n",
    "grounds=pd.DataFrame(grounds)\n",
    "grounds['Grounds']=grounds.index\n",
    "grounds.reset_index(drop=True,inplace=True)\n",
    "grounds=grounds[:25]\n",
    "fig = px.bar(grounds, x=\"Grounds\", y=\"Ground\") \n",
    "fig.show()"
   ]
  },
  {
   "attachments": {},
   "cell_type": "markdown",
   "id": "6d10ca48",
   "metadata": {
    "papermill": {
     "duration": 0.008216,
     "end_time": "2023-06-29T15:11:53.552075",
     "exception": false,
     "start_time": "2023-06-29T15:11:53.543859",
     "status": "completed"
    },
    "tags": []
   },
   "source": [
    "# ODIs played in each Year"
   ]
  },
  {
   "cell_type": "code",
   "execution_count": 28,
   "id": "277b6ce0",
   "metadata": {
    "execution": {
     "iopub.execute_input": "2023-06-29T15:11:53.571955Z",
     "iopub.status.busy": "2023-06-29T15:11:53.570540Z",
     "iopub.status.idle": "2023-06-29T15:11:54.564249Z",
     "shell.execute_reply": "2023-06-29T15:11:54.563425Z"
    },
    "papermill": {
     "duration": 1.006534,
     "end_time": "2023-06-29T15:11:54.566566",
     "exception": false,
     "start_time": "2023-06-29T15:11:53.560032",
     "status": "completed"
    },
    "tags": []
   },
   "outputs": [
    {
     "data": {
      "text/plain": [
       "<AxesSubplot: xlabel='year', ylabel='count'>"
      ]
     },
     "execution_count": 28,
     "metadata": {},
     "output_type": "execute_result"
    },
    {
     "data": {
      "image/png": "[encoded data removed]",
      "text/plain": [
       "<Figure size 640x480 with 1 Axes>"
      ]
     },
     "metadata": {},
     "output_type": "display_data"
    }
   ],
   "source": [
    "year=[]\n",
    "for i in df['Match Date']:\n",
    "    data=i.split(' ')\n",
    "    year.append(int(data[-1]))\n",
    "df['year']=year\n",
    "years=df.copy()\n",
    "years=years.sort_values('year',ascending=True)\n",
    "plt.xticks(rotation=90)\n",
    "sns.countplot(x='year',data=years)"
   ]
  },
  {
   "cell_type": "code",
   "execution_count": 26,
   "id": "2459e6a4",
   "metadata": {},
   "outputs": [
    {
     "data": {
      "text/plain": [
       "0       1971\n",
       "1       1972\n",
       "2       1972\n",
       "3       1972\n",
       "4       1973\n",
       "        ... \n",
       "4521    2023\n",
       "4520    2023\n",
       "4519    2023\n",
       "4537    2023\n",
       "4577    2023\n",
       "Name: year, Length: 4578, dtype: object"
      ]
     },
     "execution_count": 26,
     "metadata": {},
     "output_type": "execute_result"
    }
   ],
   "source": [
    "years['year']"
   ]
  },
  {
   "attachments": {},
   "cell_type": "markdown",
   "id": "2709299a",
   "metadata": {
    "papermill": {
     "duration": 0.009563,
     "end_time": "2023-06-29T15:11:54.585602",
     "exception": false,
     "start_time": "2023-06-29T15:11:54.576039",
     "status": "completed"
    },
    "tags": []
   },
   "source": [
    "# Conclusions\n",
    "* **India(1029) played most number of matches** since the inagural of ODIs in 1971 ,followed by Australia(978).\n",
    "* The difference between number of matches won by chasing (2213) and by defending (2157) is very minute.It is worthy to note that almost 208 matches were tied from 1971 till today.\n",
    "* **Australia(594) dominated the ODIs by winning the most number of matches** followed by India (539),Pakistan (503),West Indies (411) and South Africa (399).\n",
    "* Although Australia and India played the most number of matches, the venue which hosted **most number of matches Sharjha**(244), is located in Pakisthan.Harare (174),Sydney (160),Melbourne (150), and Columbia (138) occupy the subsequent positions respectectively.\n",
    "* 1. The number of ODI matches played in a year never crossed 100 till 1995, this can be correlated to the popularity of test matches in 90's.\n",
    "  2. After that we can see around 150 matches being played consistently over the next 2 decades\n",
    "  3. We can see an abnomality in 2020.This is due to the Covid-19 pandemic and also we can notice the number of matches picking up pace after that.\n",
    "  4. Considering the popularity of T20 cricket and domestic leagues we may see a decrease in the number of ODI matches played in the up coming years. "
   ]
  },
  {
   "cell_type": "code",
   "execution_count": 32,
   "id": "aa4c775a",
   "metadata": {},
   "outputs": [],
   "source": [
    "df.to_csv('Final_data.csv',index=False)"
   ]
  },
  {
   "cell_type": "code",
   "execution_count": null,
   "id": "ff713fc5",
   "metadata": {},
   "outputs": [],
   "source": []
  }
 ],
 "metadata": {
  "kernelspec": {
   "display_name": "Python 3",
   "language": "python",
   "name": "python3"
  },
  "language_info": {
   "codemirror_mode": {
    "name": "ipython",
    "version": 3
   },
   "file_extension": ".py",
   "mimetype": "text/x-python",
   "name": "python",
   "nbconvert_exporter": "python",
   "pygments_lexer": "ipython3",
   "version": "3.9.13"
  },
  "papermill": {
   "default_parameters": {},
   "duration": 18.171493,
   "end_time": "2023-06-29T15:11:55.734719",
   "environment_variables": {},
   "exception": null,
   "input_path": "__notebook__.ipynb",
   "output_path": "__notebook__.ipynb",
   "parameters": {},
   "start_time": "2023-06-29T15:11:37.563226",
   "version": "2.4.0"
  }
 },
 "nbformat": 4,
 "nbformat_minor": 5
}
